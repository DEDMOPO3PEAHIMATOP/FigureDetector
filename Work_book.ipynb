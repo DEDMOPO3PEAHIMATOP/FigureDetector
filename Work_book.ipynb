{
 "cells": [
  {
   "cell_type": "code",
   "execution_count": 1,
   "metadata": {
    "id": "ELq_rl4YNPkI"
   },
   "outputs": [],
   "source": [
    "from IPython.display import clear_output\n",
    "from PIL import Image, ImageDraw\n",
    "from shapely.geometry import Polygon\n",
    "from sklearn import metrics\n",
    "from torch.utils.data import Dataset\n",
    "\n",
    "import gc\n",
    "import json\n",
    "import math\n",
    "import matplotlib.pyplot as plt\n",
    "import numpy as np\n",
    "import os\n",
    "import pandas as pd\n",
    "import random\n",
    "import torch\n",
    "import torch.nn as nn\n",
    "import torch.nn.functional as F\n",
    "import torch.nn.functional as F\n",
    "import torch.optim as optim\n",
    "import torchvision.transforms as transforms\n",
    "import warnings\n",
    "\n",
    "warnings.filterwarnings('ignore')"
   ]
  },
  {
   "cell_type": "code",
   "execution_count": 2,
   "metadata": {
    "id": "Y1G_BpX6M_KN"
   },
   "outputs": [],
   "source": [
    "class PictureDrawer:\n",
    "    def __init__(\n",
    "        self,\n",
    "        num_rectangles,\n",
    "        hexagon_status=False,\n",
    "        random_status=True\n",
    "        ):\n",
    "        '''\n",
    "        На входе:\n",
    "        num_rectangles - количество фигур на картинке\n",
    "        hexagon_status=False - набор фигур не будет иметь фигуры гексагон\n",
    "        и наоборот\n",
    "        random_status=True - набор фигур будет рандомным и наоборот\n",
    "        '''\n",
    "        self.hexagon_status = hexagon_status\n",
    "        self.num_rectangles = num_rectangles\n",
    "        self.random_status = random_status\n",
    "        self.angle = random.randint(0, 359)\n",
    "        # Если нам нужен гексагон на картинке, будем генерить его\n",
    "        if hexagon_status:\n",
    "            self.figures = [\n",
    "                'triangle',\n",
    "                'circle',\n",
    "                'square',\n",
    "                'rhombus',\n",
    "                'hexagon'\n",
    "                ]\n",
    "        else:\n",
    "            self.figures = ['triangle', 'circle', 'square', 'rhombus']\n",
    "\n",
    "    def generate_random_color(self):\n",
    "        # Гененрируем рандомный цвет\n",
    "        # На выходе: рандомные r, g, b\n",
    "        r = random.randint(0, 255)\n",
    "        g = random.randint(0, 255)\n",
    "        b = random.randint(0, 255)\n",
    "        return (r, g, b)\n",
    "\n",
    "    def generate_shapes(self):\n",
    "        # Генерим области для последующего построения фигур\n",
    "        self.rectangles = []\n",
    "        self.shapes = []\n",
    "        for _ in range(self.num_rectangles):\n",
    "            self.generate_rectangle()\n",
    "\n",
    "    def generate_rectangle(self):\n",
    "        # Генерим прямоугольники, которые однозначно не пересекаются\n",
    "        # На выходе: список прямоугольных областей\n",
    "        while True:\n",
    "            x1 = random.randint(0, 256 - 25)\n",
    "            y1 = random.randint(0, 256 - 25)\n",
    "            width = random.randint(25, min(150, 256 - x1))\n",
    "            height = random.randint(25, min(150, 256 - y1))\n",
    "            x2 = x1 + width\n",
    "            y2 = y1 + height\n",
    "            new_rectangle = (x1, y1, x2, y2)\n",
    "\n",
    "            overlap = False\n",
    "            for rectangle in self.rectangles:\n",
    "                if self.check_overlap(new_rectangle, rectangle):\n",
    "                    overlap = True\n",
    "                    break\n",
    "\n",
    "            if not overlap:\n",
    "                self.rectangles.append(new_rectangle)\n",
    "                break\n",
    "\n",
    "    def check_overlap(self, rect1, rect2):\n",
    "        # Проверка на пересечение новой прямоугольной области с уже сделанными\n",
    "        # ранее\n",
    "        x1, y1, x2, y2 = rect1\n",
    "        x3, y3, x4, y4 = rect2\n",
    "        if x1 > x4 or x2 < x3 or y1 > y4 or y2 < y3:\n",
    "            return False\n",
    "        return True\n",
    "\n",
    "    def draw_triangle(self, rectangle, new_color):\n",
    "        # Рисуем треугольник\n",
    "        x1, y1, x2, y2 = rectangle\n",
    "        x3 = random.randint(x1, x2)\n",
    "        y3 = random.randint(y1, y2)\n",
    "        triangle = (x1, y1, x2, y2, x3, y3)\n",
    "        self.draw.polygon(triangle, new_color)\n",
    "        height = y2 - y1\n",
    "        width = x2 - x1\n",
    "        return x1, y1, height, width\n",
    "\n",
    "    def draw_circle(self, rectangle, new_color):\n",
    "        # Рисуем круг\n",
    "        x1, y1, x2, y2 = rectangle\n",
    "        center = (x1 + (x2 - x1) / 2, y1 + (y2 - y1) / 2)\n",
    "        radius = min((x2 - x1) / 2, (y2 - y1) / 2)\n",
    "        points = []\n",
    "        for i in range(360):\n",
    "            x = center[0] + int(radius * math.cos(math.radians(i)))\n",
    "            y = center[1] + int(radius * math.sin(math.radians(i)))\n",
    "            points.append((x, y))\n",
    "        self.draw.polygon(points, new_color)\n",
    "        return center[0] - radius, center[1] - radius, radius * 2, radius * 2\n",
    "\n",
    "    def draw_square(self, rectangle, new_color):\n",
    "        # Рисуем квадрат\n",
    "        x1, y1, x2, y2 = rectangle\n",
    "        center = (x1 + (x2 - x1) / 2, y1 + (y2 - y1) / 2)\n",
    "        radius = min((x2 - x1) / 2, (y2 - y1) / 2)\n",
    "        angle_rad = math.radians(self.angle)\n",
    "        while True:\n",
    "            radius += 1\n",
    "            points = [\n",
    "                (center[0], center[1] - radius),\n",
    "                (center[0] + radius, center[1]),\n",
    "                (center[0], center[1] + radius),\n",
    "                (center[0] - radius, center[1])\n",
    "            ]\n",
    "\n",
    "            # Вращение по центру\n",
    "            rotated_points = []\n",
    "            for point in points:\n",
    "                x_rot = center[0] + math.cos(angle_rad) * (point[0] - center[0]) - math.sin(angle_rad) * (point[1] - center[1])\n",
    "                y_rot = center[1] + math.sin(angle_rad) * (point[0] - center[0]) + math.cos(angle_rad) * (point[1] - center[1])\n",
    "                rotated_points.append((x_rot, y_rot))\n",
    "            x_min = min([rotated_points[i][0] for i in range(4)])\n",
    "            x_max = max([rotated_points[i][0] for i in range(4)])\n",
    "            y_min = min([rotated_points[i][1] for i in range(4)])\n",
    "            y_max = max([rotated_points[i][1] for i in range(4)])\n",
    "            height = y_max - y_min\n",
    "            width = x_max - x_min\n",
    "            # Проверка на требование к размерам описывающего прямоугольника\n",
    "            flag = False\n",
    "            if height < 25 or width < 25:\n",
    "                flag = True\n",
    "            if not flag:\n",
    "                self.draw.polygon(rotated_points, new_color)\n",
    "                return x_min, y_min, height, width\n",
    "\n",
    "    def draw_rhombus(self, rectangle, new_color):\n",
    "        # Рисуем ромб\n",
    "        x1, y1, x2, y2 = rectangle\n",
    "        center = (x1 + (x2 - x1) / 2, y1 + (y2 - y1) / 2)\n",
    "        radius = int(min((x2 - x1) / 2, (y2 - y1) / 2))\n",
    "        while True:\n",
    "            radius += 1\n",
    "            side = random.randint(1, radius)\n",
    "            angle_rad = math.radians(self.angle)\n",
    "            points = [\n",
    "                (center[0], center[1] - radius),\n",
    "                (center[0] + side, center[1]),\n",
    "                (center[0], center[1] + radius),\n",
    "                (center[0] - side, center[1])\n",
    "            ]\n",
    "\n",
    "            # Вращение по центру\n",
    "            rotated_points = []\n",
    "            for point in points:\n",
    "                x_rot = center[0] + math.cos(angle_rad) * (point[0] - center[0]) - math.sin(angle_rad) * (point[1] - center[1])\n",
    "                y_rot = center[1] + math.sin(angle_rad) * (point[0] - center[0]) + math.cos(angle_rad) * (point[1] - center[1])\n",
    "                rotated_points.append((x_rot, y_rot))\n",
    "            x_min = min([rotated_points[i][0] for i in range(4)])\n",
    "            x_max = max([rotated_points[i][0] for i in range(4)])\n",
    "            y_min = min([rotated_points[i][1] for i in range(4)])\n",
    "            y_max = max([rotated_points[i][1] for i in range(4)])\n",
    "            height = y_max - y_min\n",
    "            width = x_max - x_min\n",
    "            # Проверка на требование к размерам описывающего прямоугольника\n",
    "            flag = False\n",
    "            if height < 25 or width < 25:\n",
    "                flag = True\n",
    "            if not flag:\n",
    "                self.draw.polygon(rotated_points, new_color)\n",
    "                return x_min, y_min, height, width\n",
    "\n",
    "    def draw_hexagon(self, rectangle, new_color):\n",
    "        # Рисуем гексагон\n",
    "        x1, y1, x2, y2 = rectangle\n",
    "        center = (x1 + (x2 - x1) / 2, y1 + (y2 - y1) / 2)\n",
    "        radius = int(min((x2 - x1) / 2, (y2 - y1) / 2))\n",
    "        while True:\n",
    "            radius += 1\n",
    "            side = random.randint(1, radius)\n",
    "            rotate_angle_rad = math.radians(self.angle)\n",
    "            vertices = []\n",
    "            for i in range(6):\n",
    "                    angle_deg = 60 * i - 30\n",
    "                    angle_rad = math.pi / 180 * angle_deg\n",
    "                    x = center[0] + radius * math.cos(angle_rad)\n",
    "                    y = center[1] + radius * math.sin(angle_rad)\n",
    "                    vertices.append((x, y))\n",
    "            # Вращение по центру\n",
    "            rotated_points = []\n",
    "            for point in vertices:\n",
    "                x_rot = center[0]\\\n",
    "                        + math.cos(rotate_angle_rad) * (point[0] - center[0])\\\n",
    "                        - math.sin(rotate_angle_rad) * (point[1] - center[1])\n",
    "                y_rot = center[1]\\\n",
    "                        + math.sin(rotate_angle_rad) * (point[0] - center[0])\\\n",
    "                        + math.cos(rotate_angle_rad) * (point[1] - center[1])\n",
    "                rotated_points.append((x_rot, y_rot))\n",
    "            x_min = min([rotated_points[i][0] for i in range(6)])\n",
    "            x_max = max([rotated_points[i][0] for i in range(6)])\n",
    "            y_min = min([rotated_points[i][1] for i in range(6)])\n",
    "            y_max = max([rotated_points[i][1] for i in range(6)])\n",
    "            height = y_max - y_min\n",
    "            width = x_max - x_min\n",
    "            # Проверка на требование к размерам описывающего прямоугольника\n",
    "            flag = False\n",
    "            if height < 25 or width < 25:\n",
    "                flag = True\n",
    "            if not flag:\n",
    "                self.draw.polygon(rotated_points, new_color)\n",
    "                return x_min, y_min, height, width\n",
    "\n",
    "    def draw_figure(self, rectangle, figure, new_color):\n",
    "        # Добавляем те фигуры, которые приняи на вход класса\n",
    "        if figure == 'triangle':\n",
    "            x1, y1, height, width = self.draw_triangle(rectangle, new_color)\n",
    "        elif figure == 'circle':\n",
    "            x1, y1, height, width = self.draw_circle(rectangle, new_color)\n",
    "        elif figure == \"square\":\n",
    "            x1, y1, height, width = self.draw_square(rectangle, new_color)\n",
    "        elif figure == \"hexagon\":\n",
    "            x1, y1, height, width = self.draw_hexagon(rectangle, new_color)\n",
    "        elif figure == \"rhombus\":\n",
    "            x1, y1, height, width = self.draw_rhombus(rectangle, new_color)\n",
    "        self.shapes.append({\n",
    "                    \"id\": len(self.shapes) + 1,\n",
    "                    \"name\": figure,\n",
    "                    'region':{\n",
    "                        'origin':{\"x\": x1, \"y\": y1},\n",
    "                        'size':{\"width\": width, \"height\": height}\n",
    "                    },\n",
    "                })\n",
    "    def draw_rectangles(self):\n",
    "        # Рисуем фигуры в зависимости от необходимости рисовать рандомно\n",
    "        # либо с/без гексагона\n",
    "        background_color = self.generate_random_color()\n",
    "        self.image = Image.new(\"RGB\", (256, 256), background_color)\n",
    "        self.draw = ImageDraw.Draw(self.image)\n",
    "        num_figures = 0\n",
    "        for rectangle in self.rectangles:\n",
    "            new_color = self.generate_random_color()\n",
    "            if background_color == new_color:\n",
    "                new_color = self.generate_random_color()\n",
    "            else:\n",
    "                if self.random_status:\n",
    "                    figure = random.choice(self.figures)\n",
    "                else:\n",
    "                    figure = self.figures[num_figures]\n",
    "                # self.draw.rectangle(rectangle)\n",
    "                self.draw_figure(rectangle, figure, new_color)\n",
    "                if num_figures >= len(self.figures):\n",
    "                    num_figures = 0\n",
    "                elif num_figures < len(self.figures) - 1:\n",
    "                    num_figures += 1\n",
    "\n",
    "        return self.image, self.shapes, self.figures\n",
    "\n",
    "    def generate_images(self, num_images, output_folder, update=False):\n",
    "        '''\n",
    "        Гененрим фигуры, сохраняем их в файл и сохраняем в файл характтеристики\n",
    "        описываемых их областей\n",
    "        '''\n",
    "        # Если каталога нет, то делаем\n",
    "        if not os.path.exists(output_folder):\n",
    "            os.makedirs(output_folder)\n",
    "\n",
    "        # Читаем файлы в каталоге\n",
    "        files = os.listdir(output_folder)\n",
    "\n",
    "        # Если файлов нет или мы не продолжаем запись, то начинаем с начала\n",
    "        if not files or not update:\n",
    "            last_num = 0\n",
    "        elif not update:\n",
    "            last_num = 0\n",
    "        # Если каталог не пуст и мы продолжаем добавлять файлы, то продолжаем\n",
    "        # нумерацию\n",
    "        else:\n",
    "            # Сортируем файлы\n",
    "            files.sort()\n",
    "            # Берем последний\n",
    "            last_file = files[-2]\n",
    "            # Берем номер последнего файла\n",
    "            last_num = int(last_file.split('.')[0])\n",
    "\n",
    "        data_filename = os.path.join(output_folder, 'data_json.json')\n",
    "        if 'data_json.json' in files and update:\n",
    "            with open(os.path.join(output_folder, 'data_json.json'), 'r') as f:\n",
    "                data = json.load(f)\n",
    "        else:\n",
    "            data = {}\n",
    "            data_filename = os.path.join(output_folder, 'data_json.json')\n",
    "\n",
    "        for i in range(num_images):\n",
    "            self.generate_shapes()\n",
    "            image, shapes, figures = self.draw_rectangles()\n",
    "            image_filename = os.path.join(output_folder, f'{last_num+i+1:05}.png')\n",
    "            image.save(image_filename)\n",
    "            shape_filename = os.path.join(output_folder, f'{last_num+i+1:05}.json')\n",
    "            data[last_num+i+1] = {'image' : f'{last_num+i+1:05}.png', 'file' : f'{last_num+i+1:05}.json'}\n",
    "            with open(shape_filename, 'w') as f:\n",
    "                json.dump(shapes, f)\n",
    "        with open(data_filename, 'w') as f:\n",
    "            json.dump(data, f)"
   ]
  },
  {
   "cell_type": "code",
   "execution_count": 3,
   "metadata": {},
   "outputs": [],
   "source": [
    "class My_Dataset(Dataset):\n",
    "    \"\"\"Класс генерации torch Dataset\"\"\"\n",
    "    def __init__(self, transform=False, aug=None, fly=False, folder=False):\n",
    "        self.fly = fly\n",
    "        self.folder = folder\n",
    "        if not self.fly and self.folder:\n",
    "            with open(os.path.join(self.folder, 'data_json.json'), 'r') as f:\n",
    "                data = json.load(f)\n",
    "            print('Количество файлов', ':', len(data))\n",
    "            self.data_dict = data\n",
    "        else:\n",
    "            print('Количество картинок в обучении', ':', 1000)\n",
    "        if self.folder:\n",
    "            with open(os.path.join(self.folder, 'data_json.json'), 'r') as f:\n",
    "                data = json.load(f)\n",
    "            print('Количество файлов', ':', len(data))\n",
    "            self.data_dict = data\n",
    "        self.transform = transform\n",
    "        self.aug = aug\n",
    "\n",
    "    def __len__(self):\n",
    "        if self.fly:\n",
    "            return 1000\n",
    "        else:\n",
    "            return len(self.data_dict)\n",
    "\n",
    "    def __getitem__(self, idx):\n",
    "        if not self.transform:\n",
    "            self.transform = transforms.Compose([\n",
    "                  # you may add anything, e.g. augmentation\n",
    "                  # transforms.CenterCrop(size=120),\n",
    "                  # transforms.Resize(size=(256, 256)),\n",
    "                  transforms.ToTensor(),\n",
    "                  # transforms.Normalize((0.485, 0.456, 0.406), (0.229, 0.224, 0.225)),\n",
    "            ])\n",
    "        if not self.fly:\n",
    "            index = str(idx + 1)\n",
    "            sample_dict = self.data_dict[index]\n",
    "            img_name = sample_dict['image']\n",
    "            file_dict = sample_dict['file']\n",
    "\n",
    "            with open(os.path.join(self.folder, file_dict), 'r') as f:\n",
    "                data = json.load(f)\n",
    "                labels = []\n",
    "                names = []\n",
    "                for i in range(5):\n",
    "                    names.append(data[i]['name'])\n",
    "                    labels.append([\n",
    "                        data[i]['region']['origin']['x'],\n",
    "                        data[i]['region']['origin']['y'],\n",
    "                        data[i]['region']['size']['width'],\n",
    "                        data[i]['region']['size']['height']\n",
    "                    ])\n",
    "            label = torch.LongTensor(labels)\n",
    "            image = Image.open(os.path.join(self.folder, img_name))\n",
    "        else:\n",
    "            drawer.generate_shapes()\n",
    "            image, shapes, _ = drawer.draw_rectangles()\n",
    "            labels = []\n",
    "            names = []\n",
    "            for i in range(5):\n",
    "                names.append(shapes[i]['name'])\n",
    "                labels.append([\n",
    "                    shapes[i]['region']['origin']['x'],\n",
    "                    shapes[i]['region']['origin']['y'],\n",
    "                    shapes[i]['region']['size']['width'],\n",
    "                    shapes[i]['region']['size']['height']\n",
    "                ])\n",
    "            label = torch.LongTensor(labels)\n",
    "        if self.aug:\n",
    "            sample = self.aug(\n",
    "                image=image,\n",
    "            )\n",
    "        else:\n",
    "            if not self.fly:\n",
    "                sample = {\n",
    "                    'image': image,\n",
    "                    'label': label,\n",
    "                    'image_name': img_name,\n",
    "                    'file_name': file_dict,\n",
    "                    'names': names\n",
    "                }\n",
    "            else:\n",
    "                 sample = {\n",
    "                    'image': image,\n",
    "                    'label': label,\n",
    "                    'image_name': 'fly',\n",
    "                    'file_name': 'fly',\n",
    "                    'names': names\n",
    "                }\n",
    "        if self.transform:\n",
    "            sample['image'] = self.transform(sample['image'])\n",
    "\n",
    "        return sample"
   ]
  },
  {
   "cell_type": "code",
   "execution_count": 4,
   "metadata": {},
   "outputs": [],
   "source": [
    "class ShapeDetector(nn.Module):\n",
    "    def __init__(self):\n",
    "        super(ShapeDetector, self).__init__()\n",
    "        '''\n",
    "        Простая нейронная сеть с фильтром Conv2d и паддингом 1.\n",
    "        Перед разворачиванием сети в линейный слой изпользовал\n",
    "        макспуллинг.\n",
    "        Перед последним линейным слоем делаем активацию Relu.\n",
    "        На выходе преобразуем в массив размерностью (5, 4).\n",
    "        '''\n",
    "        self.conv1 = nn.Conv2d(3, 16, 3, padding=1)\n",
    "        self.conv2 = nn.Conv2d(16, 32, 3, padding=1)\n",
    "        self.conv3 = nn.Conv2d(32, 64, 3, padding=1)\n",
    "        self.pool = nn.MaxPool2d(2, 2)\n",
    "        self.fc1 = nn.Linear(64 * 32 * 32, 512)\n",
    "        self.fc2 = nn.Linear(512, 20)\n",
    "\n",
    "    def forward(self, x):\n",
    "        x = self.pool(F.relu(self.conv1(x)))\n",
    "        x = self.pool(F.relu(self.conv2(x)))\n",
    "        x = self.pool(F.relu(self.conv3(x)))\n",
    "        x = x.view(-1, 64 * 32 * 32)\n",
    "        x = F.relu(self.fc1(x))\n",
    "        x = self.fc2(x)\n",
    "        return x.view(-1, 5, 4)"
   ]
  },
  {
   "cell_type": "code",
   "execution_count": 5,
   "metadata": {},
   "outputs": [],
   "source": [
    "class UNet(nn.Module):\n",
    "    def __init__(self):\n",
    "        super().__init__()\n",
    "        self.enc_conv0 = nn.Sequential(\n",
    "            nn.Conv2d(in_channels=3, out_channels=64, kernel_size=3, padding=1),\n",
    "            nn.BatchNorm2d(64),\n",
    "            nn.ReLU(),\n",
    "            nn.Conv2d(in_channels=64, out_channels=64, kernel_size=3, padding=1),\n",
    "            nn.BatchNorm2d(64),\n",
    "            nn.ReLU()\n",
    "            )\n",
    "        self.pool0 =  nn.MaxPool2d(kernel_size=2, return_indices=True) # 256 -> 128\n",
    "        self.enc_conv1 = nn.Sequential(\n",
    "            nn.Conv2d(in_channels=64, out_channels=128, kernel_size=3, padding=1),\n",
    "            nn.BatchNorm2d(128),\n",
    "            nn.ReLU(),\n",
    "            nn.Conv2d(in_channels=128, out_channels=128, kernel_size=3, padding=1),\n",
    "            nn.BatchNorm2d(128),\n",
    "            nn.ReLU()\n",
    "            )\n",
    "        self.pool1 =  nn.MaxPool2d(kernel_size=2, return_indices=True) # 128 -> 64\n",
    "        self.enc_conv2 = nn.Sequential(\n",
    "            nn.Conv2d(in_channels=128, out_channels=256, kernel_size=3, padding=1),\n",
    "            nn.BatchNorm2d(256),\n",
    "            nn.ReLU(),\n",
    "            nn.Conv2d(in_channels=256, out_channels=256, kernel_size=3, padding=1),\n",
    "            nn.BatchNorm2d(256),\n",
    "            nn.ReLU()\n",
    "        )\n",
    "        self.pool2 = nn.MaxPool2d(kernel_size=2, return_indices=True) # 64 -> 32\n",
    "        self.enc_conv3 = nn.Sequential(\n",
    "            nn.Conv2d(in_channels=256, out_channels=512, kernel_size=3, padding=1),\n",
    "            nn.BatchNorm2d(512),\n",
    "            nn.ReLU(),\n",
    "            nn.Conv2d(in_channels=512, out_channels=512, kernel_size=3, padding=1),\n",
    "            nn.BatchNorm2d(512),\n",
    "            nn.ReLU(),\n",
    "        )\n",
    "        self.pool3 = nn.MaxPool2d(kernel_size=2, return_indices=True) # 32 -> 16\n",
    "        # bottleneck\n",
    "        self.bottleneck_conv = nn.Sequential(\n",
    "            nn.Conv2d(in_channels=512, out_channels=1024, kernel_size=1),\n",
    "            nn.BatchNorm2d(1024),\n",
    "            nn.ReLU(),\n",
    "            nn.Conv2d(in_channels=1024, out_channels=512, kernel_size=1),\n",
    "            nn.BatchNorm2d(512),\n",
    "            nn.ReLU(),\n",
    "        )\n",
    "        # decoder (upsampling)\n",
    "        self.upsample0 = nn.MaxUnpool2d(kernel_size=2)# 16 -> 32\n",
    "        self.dec_conv0 = nn.Sequential(\n",
    "            nn.Conv2d(in_channels=1024, out_channels=512, kernel_size=3, padding=1),\n",
    "            nn.BatchNorm2d(512),\n",
    "            nn.ReLU(),\n",
    "            nn.Conv2d(in_channels=512, out_channels=256, kernel_size=3, padding=1),\n",
    "            nn.BatchNorm2d(256),\n",
    "            nn.ReLU()\n",
    "            )\n",
    "        self.upsample1 = nn.MaxUnpool2d(kernel_size=2)# 32 -> 64\n",
    "        self.dec_conv1 = nn.Sequential(\n",
    "            nn.Conv2d(in_channels=512, out_channels=256, kernel_size=3, padding=1),\n",
    "            nn.BatchNorm2d(256),\n",
    "            nn.ReLU(),\n",
    "            nn.Conv2d(in_channels=256, out_channels=128, kernel_size=3, padding=1),\n",
    "            nn.BatchNorm2d(128),\n",
    "            nn.ReLU()\n",
    "            )\n",
    "        self.upsample2 = nn.MaxUnpool2d(kernel_size=2)# 64 -> 128\n",
    "        self.dec_conv2 = nn.Sequential(\n",
    "            nn.Conv2d(in_channels=256, out_channels=128, kernel_size=3, padding=1),\n",
    "            nn.BatchNorm2d(128),\n",
    "            nn.ReLU(),\n",
    "            nn.Conv2d(in_channels=128, out_channels=64, kernel_size=3, padding=1),\n",
    "            nn.BatchNorm2d(64),\n",
    "            nn.ReLU()\n",
    "            )\n",
    "        self.upsample3 = nn.MaxUnpool2d(kernel_size=2)# 128 -> 256\n",
    "        self.dec_conv3 = nn.Sequential(\n",
    "            nn.Conv2d(in_channels=128, out_channels=64, kernel_size=3, padding=1),\n",
    "            nn.BatchNorm2d(64),\n",
    "            nn.ReLU(),\n",
    "            nn.Conv2d(in_channels=64, out_channels=64, kernel_size=3, padding=1),\n",
    "            nn.BatchNorm2d(64),\n",
    "            nn.ReLU(),\n",
    "            nn.Conv2d(in_channels=64, out_channels=1, kernel_size=1),\n",
    "            )\n",
    "        self.fc1 = nn.Flatten()\n",
    "        self.fc2 = nn.Linear(256*256, 20)\n",
    "\n",
    "    def forward(self, x):\n",
    "        # encoder\n",
    "        enc0 = self.enc_conv0(x)\n",
    "        pool0, indices_e0 = self.pool0(enc0)\n",
    "        enc1 = self.enc_conv1(pool0)\n",
    "        pool1, indices_e1 = self.pool1(enc1)\n",
    "        enc2 = self.enc_conv2(pool1)\n",
    "        pool2, indices_e2 = self.pool2(enc2)\n",
    "        enc3 = self.enc_conv3(pool2)\n",
    "        pool3, indices_e3 = self.pool3(enc3)\n",
    "        # bottleneck\n",
    "        b = self.bottleneck_conv(pool3)\n",
    "        # decoder\n",
    "        d0 = self.dec_conv0(torch.cat((self.upsample0(b, indices_e3), enc3), dim=1))\n",
    "        d1 = self.dec_conv1(torch.cat((self.upsample1(d0, indices_e2), enc2), dim=1))\n",
    "        d2 = self.dec_conv2(torch.cat((self.upsample2(d1, indices_e1), enc1), dim=1))\n",
    "        d3 = self.dec_conv3(torch.cat((self.upsample3(d2, indices_e0), enc0), dim=1)) # no activation\n",
    "        d4 = self.fc1(d3)\n",
    "        d5 = self.fc2(d4)\n",
    "        d6 = d5.view(-1, 5, 4)\n",
    "        return d6"
   ]
  },
  {
   "cell_type": "code",
   "execution_count": 6,
   "metadata": {},
   "outputs": [],
   "source": [
    "def train_cnn(epoch, loader, batch_size = 32):\n",
    "    # Функция обечения нейросети\n",
    "    history = {'epoch':[],'train_loss':[],'val_loss':[],'val_score':[]}\n",
    "    for epoch in range(epoch):\n",
    "        running_loss = 0.0\n",
    "        model.train(True)\n",
    "        dict_names = {}\n",
    "        for i, batch in enumerate(loader):\n",
    "\n",
    "            X_batch, y_batch = batch['image'], batch['label']\n",
    "            image_name, file_name = batch['image_name'], batch['file_name']\n",
    "            names = batch['names']\n",
    "            for name in names:\n",
    "                for fig_name in name:\n",
    "                    if fig_name not in dict_names.keys():\n",
    "                        dict_names[fig_name] = 1\n",
    "                    else:\n",
    "                        dict_names[fig_name] += 1\n",
    "            optimizer.zero_grad()\n",
    "            outputs = model(X_batch.to(device))\n",
    "            loss = criterion(outputs, y_batch.to(device).float())\n",
    "            loss.backward()\n",
    "            optimizer.step()\n",
    "            running_loss += loss.item()\n",
    "    #         exp_lr_scheduler.step()\n",
    "        history['epoch'].append(epoch)\n",
    "        history['train_loss'].append(running_loss)\n",
    "        # history['val_loss'].append(val_loss.item())\n",
    "        # history['val_score'].append(val_score.item())\n",
    "        clear_output(wait=True)\n",
    "        print('Epoch %d loss: %.3f' % (epoch + 1, running_loss / len(train_loader)))\n",
    "        count = 0\n",
    "        for key, value in dict_names.items():\n",
    "            print('Количество', key, 'в эпохе обучения:', value)\n",
    "            count += value\n",
    "        print('Количество фигур в эпохе обучения:', count)\n",
    "        plt.figure(figsize=(18, 6))\n",
    "        if len(X_batch) > 6:\n",
    "            end = 6\n",
    "        else:\n",
    "            end = len(X_batch)\n",
    "        for i in range(end):\n",
    "            plt.subplot(2, 6, i+1)\n",
    "            plt.axis(\"off\")\n",
    "            plt.imshow(np.rollaxis(X_batch[i].numpy(), 0, 3))\n",
    "            plt.title(image_name[i])\n",
    "            plt.subplot(2, 6, i+7)\n",
    "            plt.axis(\"off\")\n",
    "            image = Image.new(\"RGB\", (256, 256))\n",
    "            draw = ImageDraw.Draw(image)\n",
    "            shapes = np.array(y_batch[i])\n",
    "            for j in range(5):\n",
    "                x1, y1 = shapes[j][0], shapes[j][1]\n",
    "                x2, y2 = x1 + shapes[j][2], y1 + shapes[j][3]\n",
    "                draw.polygon([(x1 ,y1), (x1, y2), (x2, y2), (x2, y1)], outline='white')\n",
    "            shapes = outputs[i].cpu()\n",
    "            for j in range(5):\n",
    "                x1, y1 = shapes[j][0], shapes[j][1]\n",
    "                x2, y2 = x1 + shapes[j][2], y1 + shapes[j][3]\n",
    "                draw.polygon([(x1 ,y1), (x2, y1), (x2, y2), (x1, y2)], outline='red')\n",
    "            plt.imshow(image)\n",
    "            plt.title(file_name[i])\n",
    "        plt.show()\n",
    "    return history"
   ]
  },
  {
   "cell_type": "code",
   "execution_count": 7,
   "metadata": {},
   "outputs": [],
   "source": [
    "def eval_cnn(loader, batch_size = 32):\n",
    "    # Функция проверки работы нейронной сети\n",
    "    iou_min = 1000\n",
    "    iou_max = 0\n",
    "    iou = []\n",
    "    iou_fp = 0\n",
    "    precision = []\n",
    "    recall = []\n",
    "    model.eval()\n",
    "    dict_names = {}\n",
    "    count = 0\n",
    "    for i, batch in enumerate(loader):\n",
    "\n",
    "        X_batch, y_batch = batch['image'], batch['label']\n",
    "        image_name, file_name = batch['image_name'], batch['file_name']\n",
    "        names = batch['names']\n",
    "        for name in names:\n",
    "            for fig_name in name:\n",
    "                if fig_name not in dict_names.keys():\n",
    "                    dict_names[fig_name] = 1\n",
    "                else:\n",
    "                    dict_names[fig_name] += 1\n",
    "        outputs = model(X_batch.to(device))\n",
    "\n",
    "        if len(X_batch) > 6:\n",
    "            end = 6\n",
    "        else:\n",
    "            end = len(X_batch)\n",
    "        for j in range(end):\n",
    "            shapes_real = y_batch[j].cpu().detach().numpy()\n",
    "            shapes_predicted = outputs[j].cpu().detach().numpy()\n",
    "            for k in range(5):\n",
    "                x1, y1 = shapes_real[k][0], shapes_real[k][1]\n",
    "                x2, y2 = x1 + shapes_real[k][2], y1 + shapes_real[k][3]\n",
    "                polygon1 = Polygon([(x1 ,y1), (x1, y2), (x2, y2), (x2, y1)])\n",
    "                polygon1_list = [x1 ,y1, x1, y2, x2, y2, x2, y1]\n",
    "                x1, y1 = shapes_predicted[k][0], shapes_predicted[k][1]\n",
    "                x2, y2 = x1 + shapes_predicted[k][2], y1 + shapes_predicted[k][3]\n",
    "                polygon2 = Polygon([(x1 ,y1), (x1, y2), (x2, y2), (x2, y1)])\n",
    "                polygon2_list = [x1 ,y1, x1, y2, x2, y2, x2, y1]\n",
    "                intersect = polygon1.intersection(polygon2).area\n",
    "                union = polygon1.union(polygon2).area\n",
    "                iou_moment = intersect / union\n",
    "                if iou_moment > 0 and iou_moment < 0.5:\n",
    "                    iou_fp += 1\n",
    "                if iou_moment > 0.5:\n",
    "                    iou.append(iou_moment)\n",
    "                if iou_moment < iou_min:\n",
    "                    iou_min = iou_moment\n",
    "                    min_image = X_batch[j]\n",
    "                    min_poligon_real = polygon1_list\n",
    "                    min_poligon_predicted = polygon2_list\n",
    "                if iou_moment > iou_max:\n",
    "                    iou_max = iou_moment\n",
    "                    max_image = X_batch[j]\n",
    "                    max_poligon_real = polygon1_list\n",
    "                    max_poligon_predicted = polygon2_list\n",
    "                count += 1\n",
    "    tp = len(iou)\n",
    "    fp = iou_fp - tp\n",
    "    \n",
    "    # Вычисляем precision и recall\n",
    "    precision = tp / (tp + fp)\n",
    "    recall = tp / count\n",
    "    return (precision,\n",
    "        recall,\n",
    "        min_poligon_real,\n",
    "        min_poligon_predicted,\n",
    "        max_poligon_real,\n",
    "        max_poligon_predicted,\n",
    "        min_image,\n",
    "        max_image,\n",
    "        iou_min,\n",
    "        iou_max,\n",
    "        iou\n",
    "           )"
   ]
  },
  {
   "cell_type": "code",
   "execution_count": 8,
   "metadata": {},
   "outputs": [],
   "source": [
    "def transfer_learning(epoch, train_epoch, status):\n",
    "    '''\n",
    "    Функция дообучения сети\n",
    "    '''\n",
    "    train_data = My_Dataset(fly=False, folder='work')\n",
    "    batch_size = 32\n",
    "    train_loader = torch.utils.data.DataLoader(train_data, batch_size=batch_size, shuffle=True)\n",
    "    torch.cuda.empty_cache()\n",
    "    gc.collect()\n",
    "    model = ShapeDetector().to(device)\n",
    "    model.load_state_dict(torch.load('model_simple_start_learning.pth', map_location=torch.device(device)))\n",
    "    criterion = nn.MSELoss()\n",
    "    optimizer = torch.optim.Adam(model.parameters(), lr=0.001)\n",
    "    history = train_cnn(train_epoch, train_loader, batch_size=32)\n",
    "    eval_output = eval_cnn(test_1_loader, batch_size=32)\n",
    "    status\n",
    "    status = status.append (\n",
    "        {\n",
    "            'test':f'{epoch}_test',\\\n",
    "            'precision':eval_output[0], 'recall':eval_output[1],\\\n",
    "            'iou_min':eval_output[8], 'iou_max':eval_output[9],\\\n",
    "            'iou_mean':np.mean(eval_output[10]),\n",
    "            'triangle':'3000',\n",
    "            'square':'3000',\n",
    "            'rhombus':'6000',\n",
    "            'hexagon':'0',\n",
    "            'circle':'3000',\n",
    "            'total figures':'15000'\n",
    "        }, ignore_index=True\n",
    "    )\n",
    "    eval_output = eval_cnn(test_2_loader, batch_size=32)\n",
    "    status = status.append (\n",
    "        {\n",
    "            'test':f'{epoch}_test_hexagon',\\\n",
    "            'precision':eval_output[0], 'recall':eval_output[1],\\\n",
    "            'iou_min':eval_output[8], 'iou_max':eval_output[9],\\\n",
    "            'iou_mean':np.mean(eval_output[10]),\n",
    "            'triangle':'3000',\n",
    "            'square':'3000',\n",
    "            'rhombus':'3000',\n",
    "            'hexagon':'3000',\n",
    "            'circle':'3000',\n",
    "            'total figures':'15000'\n",
    "        }, ignore_index=True\n",
    "    )\n",
    "    return status"
   ]
  },
  {
   "cell_type": "code",
   "execution_count": 9,
   "metadata": {
    "id": "pun9lrQPM_KP"
   },
   "outputs": [],
   "source": [
    "# drawer = PictureDrawer(5, hexagon_status=True, random_status=False)\n",
    "# drawer = PictureDrawer(5, hexagon_status=False, random_status=False)\n",
    "drawer = PictureDrawer(5, hexagon_status=True, random_status=True)\n",
    "# drawer = PictureDrawer(5, hexagon_status=False, random_status=True)\n",
    "drawer.generate_images(100, 'first_stage', update = False)\n",
    "# drawer.generate_images(100, 'output', update = True)"
   ]
  },
  {
   "cell_type": "code",
   "execution_count": 10,
   "metadata": {},
   "outputs": [],
   "source": [
    "drawer = PictureDrawer(5, hexagon_status=True, random_status=True)\n",
    "# drawer = PictureDrawer(5, hexagon_status=False, random_status=True)\n",
    "drawer.generate_images(1000, 'first_test', update = False)\n",
    "drawer.generate_images(1000, 'second_test', update = False)"
   ]
  },
  {
   "cell_type": "code",
   "execution_count": 11,
   "metadata": {
    "scrolled": true
   },
   "outputs": [
    {
     "name": "stdout",
     "output_type": "stream",
     "text": [
      "Количество картинок в обучении : 1000\n"
     ]
    }
   ],
   "source": [
    "# train_data = My_Dataset(fly=False, folder = 'output')\n",
    "train_data = My_Dataset(fly=True)\n",
    "# train_data = celebADataset()"
   ]
  },
  {
   "cell_type": "code",
   "execution_count": 12,
   "metadata": {},
   "outputs": [
    {
     "name": "stdout",
     "output_type": "stream",
     "text": [
      "Количество картинок в обучении : 1000\n",
      "Количество файлов : 1000\n"
     ]
    }
   ],
   "source": [
    "test_1_data = My_Dataset(folder = 'first_test', fly=True)"
   ]
  },
  {
   "cell_type": "code",
   "execution_count": 13,
   "metadata": {},
   "outputs": [
    {
     "name": "stdout",
     "output_type": "stream",
     "text": [
      "Количество файлов : 1000\n",
      "Количество файлов : 1000\n"
     ]
    }
   ],
   "source": [
    "test_2_data = My_Dataset(folder = 'second_test', fly=False)"
   ]
  },
  {
   "cell_type": "code",
   "execution_count": 14,
   "metadata": {},
   "outputs": [],
   "source": [
    "batch_size = 32\n",
    "train_loader = torch.utils.data.DataLoader(train_data, batch_size=batch_size, shuffle=True)\n",
    "test_1_loader = torch.utils.data.DataLoader(test_1_data, batch_size=batch_size, shuffle=False)\n",
    "test_2_loader = torch.utils.data.DataLoader(test_2_data, batch_size=batch_size, shuffle=False)"
   ]
  },
  {
   "cell_type": "code",
   "execution_count": 15,
   "metadata": {},
   "outputs": [
    {
     "data": {
      "text/plain": [
       "device(type='cuda')"
      ]
     },
     "execution_count": 15,
     "metadata": {},
     "output_type": "execute_result"
    }
   ],
   "source": [
    "device = torch.device('cuda' if torch.cuda.is_available() else 'cpu')\n",
    "device"
   ]
  },
  {
   "cell_type": "code",
   "execution_count": 16,
   "metadata": {},
   "outputs": [
    {
     "data": {
      "text/plain": [
       "256"
      ]
     },
     "execution_count": 16,
     "metadata": {},
     "output_type": "execute_result"
    }
   ],
   "source": [
    "torch.cuda.empty_cache()\n",
    "gc.collect()"
   ]
  },
  {
   "cell_type": "code",
   "execution_count": 17,
   "metadata": {},
   "outputs": [],
   "source": [
    "# Define the neural network architecture\n",
    "model = ShapeDetector().to(device)\n",
    "# model = My_CNN().to(device)\n",
    "# model = FigureDetector().to(device)\n",
    "# model = UNet().to(device)"
   ]
  },
  {
   "cell_type": "code",
   "execution_count": 18,
   "metadata": {},
   "outputs": [],
   "source": [
    "# Define the loss function and optimizer\n",
    "criterion = nn.MSELoss()\n",
    "# criterion = Customloss\n",
    "optimizer = torch.optim.Adam(model.parameters(), lr=0.001)\n",
    "# optimizer = torch.optim.Adam(model.parameters(), lr=1e-4, betas=(0.9, 0.99))\n",
    "# exp_lr_scheduler = torch.optim.lr_scheduler.StepLR(optimizer, step_size=5, gamma=0.5)"
   ]
  },
  {
   "cell_type": "code",
   "execution_count": 19,
   "metadata": {
    "scrolled": false
   },
   "outputs": [
    {
     "name": "stdout",
     "output_type": "stream",
     "text": [
      "Epoch 20 loss: 2730.469\n",
      "Количество circle в эпохе обучения: 1005\n",
      "Количество hexagon в эпохе обучения: 1025\n",
      "Количество rhombus в эпохе обучения: 986\n",
      "Количество triangle в эпохе обучения: 1001\n",
      "Количество square в эпохе обучения: 983\n",
      "Количество фигур в эпохе обучения: 5000\n"
     ]
    },
    {
     "data": {
      "image/png": "[encoded data removed]",
      "text/plain": [
       "<Figure size 1296x432 with 12 Axes>"
      ]
     },
     "metadata": {
      "needs_background": "light"
     },
     "output_type": "display_data"
    }
   ],
   "source": [
    "history = train_cnn(20, train_loader, batch_size=batch_size)"
   ]
  },
  {
   "cell_type": "code",
   "execution_count": 20,
   "metadata": {},
   "outputs": [],
   "source": [
    "# torch.save(model.state_dict(), 'model_fly.pth')\n",
    "torch.save(model.state_dict(), 'model_simple_fly.pth')"
   ]
  },
  {
   "cell_type": "code",
   "execution_count": 21,
   "metadata": {
    "scrolled": true
   },
   "outputs": [
    {
     "name": "stderr",
     "output_type": "stream",
     "text": [
      "No artists with labels found to put in legend.  Note that artists whose label start with an underscore are ignored when legend() is called with no argument.\n"
     ]
    },
    {
     "data": {
      "image/png": "[encoded data removed]",
      "text/plain": [
       "<Figure size 1008x288 with 2 Axes>"
      ]
     },
     "metadata": {
      "needs_background": "light"
     },
     "output_type": "display_data"
    }
   ],
   "source": [
    "# plot(history['epoch'], history['train_loss'], label='train_loss')\n",
    "fig, axes = plt.subplots(1, 2, figsize=(14,4))\n",
    "axes[0].plot(history['epoch'], history['train_loss'], label='train_loss')\n",
    "# axes[0].plot(history['epoch'], history['val_loss'], label='val_loss')\n",
    "# axes[1].plot(history['epoch'], history['val_score'], label='val_score')\n",
    "for i in [0,1]:\n",
    "    axes[i].legend()"
   ]
  },
  {
   "cell_type": "code",
   "execution_count": 22,
   "metadata": {},
   "outputs": [
    {
     "data": {
      "text/plain": [
       "30582"
      ]
     },
     "execution_count": 22,
     "metadata": {},
     "output_type": "execute_result"
    }
   ],
   "source": [
    "torch.cuda.empty_cache()\n",
    "gc.collect()"
   ]
  },
  {
   "cell_type": "code",
   "execution_count": 23,
   "metadata": {},
   "outputs": [],
   "source": [
    "# model = UNet().to(device)\n",
    "model = ShapeDetector().to(device)"
   ]
  },
  {
   "cell_type": "code",
   "execution_count": 24,
   "metadata": {},
   "outputs": [
    {
     "data": {
      "text/plain": [
       "<All keys matched successfully>"
      ]
     },
     "execution_count": 24,
     "metadata": {},
     "output_type": "execute_result"
    }
   ],
   "source": [
    "# model.load_state_dict(torch.load('model_fly.pth', map_location=torch.device(device)))\n",
    "model.load_state_dict(torch.load('model_simple_fly.pth', map_location=torch.device(device)))"
   ]
  },
  {
   "cell_type": "code",
   "execution_count": 25,
   "metadata": {
    "scrolled": true
   },
   "outputs": [],
   "source": [
    "# iou, iou_mean, iou_min, iou_max, precision, recall = eval_cnn(test_1_loader, batch_size=8)\n",
    "eval_output = eval_cnn(test_1_loader, batch_size=32)"
   ]
  },
  {
   "cell_type": "code",
   "execution_count": 26,
   "metadata": {},
   "outputs": [
    {
     "name": "stdout",
     "output_type": "stream",
     "text": [
      "precision: 0.024844720496894408 recall: 0.004166666666666667\n"
     ]
    }
   ],
   "source": [
    "print('precision:', eval_output[0], 'recall:', eval_output[1])"
   ]
  },
  {
   "cell_type": "code",
   "execution_count": 27,
   "metadata": {},
   "outputs": [
    {
     "name": "stdout",
     "output_type": "stream",
     "text": [
      "iou_min: 0.0 iou_max: 0.6031215684495018\n"
     ]
    }
   ],
   "source": [
    "print('iou_min:', eval_output[8], 'iou_max:', eval_output[9])"
   ]
  },
  {
   "cell_type": "code",
   "execution_count": 28,
   "metadata": {},
   "outputs": [
    {
     "name": "stdout",
     "output_type": "stream",
     "text": [
      "iou_mean: 0.5800979677045411\n"
     ]
    }
   ],
   "source": [
    "print('iou_mean:', np.mean(eval_output[10]))"
   ]
  },
  {
   "cell_type": "code",
   "execution_count": 29,
   "metadata": {},
   "outputs": [
    {
     "data": {
      "text/html": [
       "<div>\n",
       "<style scoped>\n",
       "    .dataframe tbody tr th:only-of-type {\n",
       "        vertical-align: middle;\n",
       "    }\n",
       "\n",
       "    .dataframe tbody tr th {\n",
       "        vertical-align: top;\n",
       "    }\n",
       "\n",
       "    .dataframe thead th {\n",
       "        text-align: right;\n",
       "    }\n",
       "</style>\n",
       "<table border=\"1\" class=\"dataframe\">\n",
       "  <thead>\n",
       "    <tr style=\"text-align: right;\">\n",
       "      <th></th>\n",
       "      <th>test</th>\n",
       "      <th>precision</th>\n",
       "      <th>recall</th>\n",
       "      <th>iou_min</th>\n",
       "      <th>iou_max</th>\n",
       "      <th>iou_mean</th>\n",
       "      <th>triangle</th>\n",
       "      <th>square</th>\n",
       "      <th>rhombus</th>\n",
       "      <th>hexagon</th>\n",
       "      <th>circle</th>\n",
       "      <th>total figures</th>\n",
       "    </tr>\n",
       "  </thead>\n",
       "  <tbody>\n",
       "    <tr>\n",
       "      <th>0</th>\n",
       "      <td>test_1</td>\n",
       "      <td>0.024845</td>\n",
       "      <td>0.004167</td>\n",
       "      <td>0.0</td>\n",
       "      <td>0.603122</td>\n",
       "      <td>0.580098</td>\n",
       "      <td>1003</td>\n",
       "      <td>988</td>\n",
       "      <td>996</td>\n",
       "      <td>1023</td>\n",
       "      <td>990</td>\n",
       "      <td>5000</td>\n",
       "    </tr>\n",
       "  </tbody>\n",
       "</table>\n",
       "</div>"
      ],
      "text/plain": [
       "     test  precision    recall  iou_min   iou_max  iou_mean triangle square  \\\n",
       "0  test_1   0.024845  0.004167      0.0  0.603122  0.580098     1003    988   \n",
       "\n",
       "  rhombus hexagon circle total figures  \n",
       "0     996    1023    990          5000  "
      ]
     },
     "execution_count": 29,
     "metadata": {},
     "output_type": "execute_result"
    }
   ],
   "source": [
    "results = pd.DataFrame (\n",
    "    {\n",
    "        'test':['test_1'],\\\n",
    "        'precision':[eval_output[0]], 'recall':[eval_output[1]],\\\n",
    "        'iou_min':[eval_output[8]], 'iou_max':[eval_output[9]],\\\n",
    "        'iou_mean':[np.mean(eval_output[10])],\n",
    "        'triangle':['1003'],\n",
    "        'square':['988'],\n",
    "        'rhombus':['996'],\n",
    "        'hexagon':['1023'],\n",
    "        'circle':['990'],\n",
    "        'total figures':['5000']\n",
    "    }\n",
    ")\n",
    "results"
   ]
  },
  {
   "cell_type": "code",
   "execution_count": 30,
   "metadata": {
    "scrolled": false
   },
   "outputs": [
    {
     "data": {
      "image/png": "[encoded data removed]",
      "text/plain": [
       "<Figure size 1296x432 with 2 Axes>"
      ]
     },
     "metadata": {
      "needs_background": "light"
     },
     "output_type": "display_data"
    }
   ],
   "source": [
    "plt.figure(figsize=(18, 6))\n",
    "plt.subplot(1, 2, 1)\n",
    "plt.axis(\"off\")\n",
    "plt.imshow(np.rollaxis(eval_output[6].numpy(), 0, 3))\n",
    "# plt.title('real')\n",
    "plt.subplot(1, 2, 1)\n",
    "plt.axis(\"off\")\n",
    "image = Image.new(\"RGB\", (256, 256))\n",
    "draw = ImageDraw.Draw(image)\n",
    "shapes = np.array(eval_output[2])\n",
    "#     for j in range(5):\n",
    "x1, y1 = shapes[0], shapes[1]\n",
    "x2, y2 = x1 + shapes[2], y1 + shapes[3]\n",
    "draw.polygon([(x1 ,y1), (x1, y2), (x2, y2), (x2, y1)], outline='white')\n",
    "#         shapes = outputs[i].detach().numpy()\n",
    "shapes = np.array(eval_output[3])\n",
    "#     for j in range(5):\n",
    "x1, y1 = shapes[0], shapes[1]\n",
    "x2, y2 = x1 + shapes[2], y1 + shapes[3]\n",
    "draw.polygon([(x1 ,y1), (x2, y1), (x2, y2), (x1, y2)], outline='red')\n",
    "plt.imshow(image)\n",
    "plt.title('iou_min, white - real, red - predicted')\n",
    "\n",
    "plt.subplot(1, 2, 2)\n",
    "plt.axis(\"off\")\n",
    "plt.imshow(np.rollaxis(eval_output[6].numpy(), 0, 3))\n",
    "# plt.title('real')\n",
    "plt.subplot(1, 2, 2)\n",
    "plt.axis(\"off\")\n",
    "image = Image.new(\"RGB\", (256, 256))\n",
    "draw = ImageDraw.Draw(image)\n",
    "shapes = np.array(eval_output[4])\n",
    "#     for j in range(5):\n",
    "x1, y1 = shapes[0], shapes[1]\n",
    "x2, y2 = x1 + shapes[2], y1 + shapes[5]\n",
    "draw.polygon([(x1 ,y1), (x1, y2), (x2, y2), (x2, y1)], outline='white')\n",
    "#         shapes = outputs[i].detach().numpy()\n",
    "shapes = np.array(eval_output[5])\n",
    "#     for j in range(5):\n",
    "x1, y1 = shapes[0], shapes[1]\n",
    "x2, y2 = x1 + shapes[2], y1 + shapes[3]\n",
    "draw.polygon([(x1 ,y1), (x2, y1), (x2, y2), (x1, y2)], outline='red')\n",
    "plt.imshow(image)\n",
    "plt.title('iou_max, white - real, red - predicted')\n",
    "\n",
    "plt.show()"
   ]
  },
  {
   "cell_type": "code",
   "execution_count": 31,
   "metadata": {},
   "outputs": [],
   "source": [
    "drawer.generate_images(5000, 'output', update = False)"
   ]
  },
  {
   "cell_type": "code",
   "execution_count": 32,
   "metadata": {},
   "outputs": [
    {
     "name": "stdout",
     "output_type": "stream",
     "text": [
      "Количество файлов : 5000\n",
      "Количество файлов : 5000\n"
     ]
    }
   ],
   "source": [
    "train_data = My_Dataset(fly=False, folder = 'output')"
   ]
  },
  {
   "cell_type": "code",
   "execution_count": 33,
   "metadata": {},
   "outputs": [],
   "source": [
    "batch_size = 32\n",
    "train_loader = torch.utils.data.DataLoader(train_data, batch_size=batch_size, shuffle=True)"
   ]
  },
  {
   "cell_type": "code",
   "execution_count": 34,
   "metadata": {},
   "outputs": [
    {
     "data": {
      "text/plain": [
       "6351"
      ]
     },
     "execution_count": 34,
     "metadata": {},
     "output_type": "execute_result"
    }
   ],
   "source": [
    "torch.cuda.empty_cache()\n",
    "gc.collect()"
   ]
  },
  {
   "cell_type": "code",
   "execution_count": 35,
   "metadata": {},
   "outputs": [],
   "source": [
    "# model = UNet().to(device)\n",
    "model = ShapeDetector().to(device)"
   ]
  },
  {
   "cell_type": "code",
   "execution_count": 36,
   "metadata": {},
   "outputs": [],
   "source": [
    "criterion = nn.MSELoss()\n",
    "optimizer = torch.optim.Adam(model.parameters(), lr=0.001)"
   ]
  },
  {
   "cell_type": "code",
   "execution_count": 37,
   "metadata": {},
   "outputs": [
    {
     "name": "stdout",
     "output_type": "stream",
     "text": [
      "Epoch 20 loss: 96.995\n",
      "Количество triangle в эпохе обучения: 5000\n",
      "Количество hexagon в эпохе обучения: 5029\n",
      "Количество rhombus в эпохе обучения: 4951\n",
      "Количество square в эпохе обучения: 4988\n",
      "Количество circle в эпохе обучения: 5032\n",
      "Количество фигур в эпохе обучения: 25000\n"
     ]
    },
    {
     "data": {
      "image/png": "[encoded data removed]",
      "text/plain": [
       "<Figure size 1296x432 with 12 Axes>"
      ]
     },
     "metadata": {
      "needs_background": "light"
     },
     "output_type": "display_data"
    }
   ],
   "source": [
    "history = train_cnn(20, train_loader, batch_size=batch_size)"
   ]
  },
  {
   "cell_type": "code",
   "execution_count": 38,
   "metadata": {},
   "outputs": [],
   "source": [
    "torch.save(model.state_dict(), 'model_simple_static.pth')"
   ]
  },
  {
   "cell_type": "code",
   "execution_count": 39,
   "metadata": {
    "scrolled": true
   },
   "outputs": [
    {
     "name": "stderr",
     "output_type": "stream",
     "text": [
      "No artists with labels found to put in legend.  Note that artists whose label start with an underscore are ignored when legend() is called with no argument.\n"
     ]
    },
    {
     "data": {
      "image/png": "[encoded data removed]",
      "text/plain": [
       "<Figure size 1008x288 with 2 Axes>"
      ]
     },
     "metadata": {
      "needs_background": "light"
     },
     "output_type": "display_data"
    }
   ],
   "source": [
    "# plot(history['epoch'], history['train_loss'], label='train_loss')\n",
    "fig, axes = plt.subplots(1, 2, figsize=(14,4))\n",
    "axes[0].plot(history['epoch'], history['train_loss'], label='train_loss')\n",
    "# axes[0].plot(history['epoch'], history['val_loss'], label='val_loss')\n",
    "# axes[1].plot(history['epoch'], history['val_score'], label='val_score')\n",
    "for i in [0,1]:\n",
    "    axes[i].legend()"
   ]
  },
  {
   "cell_type": "code",
   "execution_count": 40,
   "metadata": {},
   "outputs": [
    {
     "data": {
      "text/plain": [
       "36326"
      ]
     },
     "execution_count": 40,
     "metadata": {},
     "output_type": "execute_result"
    }
   ],
   "source": [
    "torch.cuda.empty_cache()\n",
    "gc.collect()"
   ]
  },
  {
   "cell_type": "code",
   "execution_count": 41,
   "metadata": {},
   "outputs": [],
   "source": [
    "# model = UNet().to(device)\n",
    "model = ShapeDetector().to(device)"
   ]
  },
  {
   "cell_type": "code",
   "execution_count": 42,
   "metadata": {},
   "outputs": [
    {
     "data": {
      "text/plain": [
       "<All keys matched successfully>"
      ]
     },
     "execution_count": 42,
     "metadata": {},
     "output_type": "execute_result"
    }
   ],
   "source": [
    "# model.load_state_dict(torch.load('model_fly.pth', map_location=torch.device(device)))\n",
    "model.load_state_dict(torch.load('model_simple_static.pth', map_location=torch.device(device)))"
   ]
  },
  {
   "cell_type": "code",
   "execution_count": 43,
   "metadata": {},
   "outputs": [],
   "source": [
    "# iou, iou_mean, iou_min, iou_max, precision, recall = eval_cnn(test_1_loader, batch_size=8)\n",
    "eval_output = eval_cnn(test_2_loader, batch_size=32)"
   ]
  },
  {
   "cell_type": "code",
   "execution_count": 44,
   "metadata": {},
   "outputs": [
    {
     "name": "stdout",
     "output_type": "stream",
     "text": [
      "precision: 0.017341040462427744 recall: 0.003125\n"
     ]
    }
   ],
   "source": [
    "print('precision:', eval_output[0], 'recall:', eval_output[1])"
   ]
  },
  {
   "cell_type": "code",
   "execution_count": 45,
   "metadata": {},
   "outputs": [
    {
     "name": "stdout",
     "output_type": "stream",
     "text": [
      "iou_min: 0.0 iou_max: 0.5293659010690289\n"
     ]
    }
   ],
   "source": [
    "print('iou_min:', eval_output[8], 'iou_max:', eval_output[9])"
   ]
  },
  {
   "cell_type": "code",
   "execution_count": 46,
   "metadata": {},
   "outputs": [
    {
     "name": "stdout",
     "output_type": "stream",
     "text": [
      "iou_mean: 0.5195406666713875\n"
     ]
    }
   ],
   "source": [
    "print('iou_mean:', np.mean(eval_output[10]))"
   ]
  },
  {
   "cell_type": "code",
   "execution_count": 47,
   "metadata": {
    "scrolled": true
   },
   "outputs": [
    {
     "data": {
      "text/html": [
       "<div>\n",
       "<style scoped>\n",
       "    .dataframe tbody tr th:only-of-type {\n",
       "        vertical-align: middle;\n",
       "    }\n",
       "\n",
       "    .dataframe tbody tr th {\n",
       "        vertical-align: top;\n",
       "    }\n",
       "\n",
       "    .dataframe thead th {\n",
       "        text-align: right;\n",
       "    }\n",
       "</style>\n",
       "<table border=\"1\" class=\"dataframe\">\n",
       "  <thead>\n",
       "    <tr style=\"text-align: right;\">\n",
       "      <th></th>\n",
       "      <th>test</th>\n",
       "      <th>precision</th>\n",
       "      <th>recall</th>\n",
       "      <th>iou_min</th>\n",
       "      <th>iou_max</th>\n",
       "      <th>iou_mean</th>\n",
       "      <th>triangle</th>\n",
       "      <th>square</th>\n",
       "      <th>rhombus</th>\n",
       "      <th>hexagon</th>\n",
       "      <th>circle</th>\n",
       "      <th>total figures</th>\n",
       "    </tr>\n",
       "  </thead>\n",
       "  <tbody>\n",
       "    <tr>\n",
       "      <th>0</th>\n",
       "      <td>test_1</td>\n",
       "      <td>0.024845</td>\n",
       "      <td>0.004167</td>\n",
       "      <td>0.0</td>\n",
       "      <td>0.603122</td>\n",
       "      <td>0.580098</td>\n",
       "      <td>1003</td>\n",
       "      <td>988</td>\n",
       "      <td>996</td>\n",
       "      <td>1023</td>\n",
       "      <td>990</td>\n",
       "      <td>5000</td>\n",
       "    </tr>\n",
       "    <tr>\n",
       "      <th>1</th>\n",
       "      <td>test_2</td>\n",
       "      <td>0.017341</td>\n",
       "      <td>0.003125</td>\n",
       "      <td>0.0</td>\n",
       "      <td>0.529366</td>\n",
       "      <td>0.519541</td>\n",
       "      <td>5004</td>\n",
       "      <td>5075</td>\n",
       "      <td>5022</td>\n",
       "      <td>4955</td>\n",
       "      <td>4944</td>\n",
       "      <td>25000</td>\n",
       "    </tr>\n",
       "  </tbody>\n",
       "</table>\n",
       "</div>"
      ],
      "text/plain": [
       "     test  precision    recall  iou_min   iou_max  iou_mean triangle square  \\\n",
       "0  test_1   0.024845  0.004167      0.0  0.603122  0.580098     1003    988   \n",
       "1  test_2   0.017341  0.003125      0.0  0.529366  0.519541     5004   5075   \n",
       "\n",
       "  rhombus hexagon circle total figures  \n",
       "0     996    1023    990          5000  \n",
       "1    5022    4955   4944         25000  "
      ]
     },
     "execution_count": 47,
     "metadata": {},
     "output_type": "execute_result"
    }
   ],
   "source": [
    "results = results.append (\n",
    "    {\n",
    "        'test':'test_2',\\\n",
    "        'precision':eval_output[0], 'recall':eval_output[1],\\\n",
    "        'iou_min':eval_output[8], 'iou_max':eval_output[9],\\\n",
    "        'iou_mean':np.mean(eval_output[10]),\n",
    "        'triangle':'5004',\n",
    "        'square':'5075',\n",
    "        'rhombus':'5022',\n",
    "        'hexagon':'4955',\n",
    "        'circle':'4944',\n",
    "        'total figures':'25000'\n",
    "    }, ignore_index=True\n",
    ")\n",
    "results"
   ]
  },
  {
   "cell_type": "code",
   "execution_count": 48,
   "metadata": {},
   "outputs": [
    {
     "data": {
      "image/png": "[encoded data removed]",
      "text/plain": [
       "<Figure size 1296x432 with 2 Axes>"
      ]
     },
     "metadata": {
      "needs_background": "light"
     },
     "output_type": "display_data"
    }
   ],
   "source": [
    "plt.figure(figsize=(18, 6))\n",
    "plt.subplot(1, 2, 1)\n",
    "plt.axis(\"off\")\n",
    "plt.imshow(np.rollaxis(eval_output[6].numpy(), 0, 3))\n",
    "# plt.title('real')\n",
    "plt.subplot(1, 2, 1)\n",
    "plt.axis(\"off\")\n",
    "image = Image.new(\"RGB\", (256, 256))\n",
    "draw = ImageDraw.Draw(image)\n",
    "shapes = np.array(eval_output[2])\n",
    "#     for j in range(5):\n",
    "x1, y1 = shapes[0], shapes[1]\n",
    "x2, y2 = x1 + shapes[2], y1 + shapes[3]\n",
    "draw.polygon([(x1 ,y1), (x1, y2), (x2, y2), (x2, y1)], outline='white')\n",
    "#         shapes = outputs[i].detach().numpy()\n",
    "shapes = np.array(eval_output[3])\n",
    "#     for j in range(5):\n",
    "x1, y1 = shapes[0], shapes[1]\n",
    "x2, y2 = x1 + shapes[2], y1 + shapes[3]\n",
    "draw.polygon([(x1 ,y1), (x2, y1), (x2, y2), (x1, y2)], outline='red')\n",
    "plt.imshow(image)\n",
    "plt.title('iou_min, white - real, red - predicted')\n",
    "\n",
    "plt.subplot(1, 2, 2)\n",
    "plt.axis(\"off\")\n",
    "plt.imshow(np.rollaxis(eval_output[6].numpy(), 0, 3))\n",
    "# plt.title('real')\n",
    "plt.subplot(1, 2, 2)\n",
    "plt.axis(\"off\")\n",
    "image = Image.new(\"RGB\", (256, 256))\n",
    "draw = ImageDraw.Draw(image)\n",
    "shapes = np.array(eval_output[4])\n",
    "#     for j in range(5):\n",
    "x1, y1 = shapes[0], shapes[1]\n",
    "x2, y2 = x1 + shapes[2], y1 + shapes[5]\n",
    "draw.polygon([(x1 ,y1), (x1, y2), (x2, y2), (x2, y1)], outline='white')\n",
    "#         shapes = outputs[i].detach().numpy()\n",
    "shapes = np.array(eval_output[5])\n",
    "#     for j in range(5):\n",
    "x1, y1 = shapes[0], shapes[1]\n",
    "x2, y2 = x1 + shapes[2], y1 + shapes[3]\n",
    "draw.polygon([(x1 ,y1), (x2, y1), (x2, y2), (x1, y2)], outline='red')\n",
    "plt.imshow(image)\n",
    "plt.title('iou_max, white - real, red - predicted')\n",
    "\n",
    "plt.show()"
   ]
  },
  {
   "cell_type": "code",
   "execution_count": 49,
   "metadata": {},
   "outputs": [],
   "source": [
    "drawer = PictureDrawer(5, hexagon_status=False, random_status=False)\n",
    "drawer.generate_images(12000, 'work', update = False)"
   ]
  },
  {
   "cell_type": "code",
   "execution_count": 50,
   "metadata": {},
   "outputs": [],
   "source": [
    "drawer = PictureDrawer(5, hexagon_status=False, random_status=False)\n",
    "drawer.generate_images(3000, 'work_test', update = False)"
   ]
  },
  {
   "cell_type": "code",
   "execution_count": 51,
   "metadata": {},
   "outputs": [],
   "source": [
    "drawer = PictureDrawer(5, hexagon_status=True, random_status=False)\n",
    "drawer.generate_images(3000, 'work_test_hexagon', update = False)"
   ]
  },
  {
   "cell_type": "code",
   "execution_count": 52,
   "metadata": {},
   "outputs": [
    {
     "name": "stdout",
     "output_type": "stream",
     "text": [
      "Количество файлов : 3000\n",
      "Количество файлов : 3000\n",
      "Количество файлов : 3000\n",
      "Количество файлов : 3000\n"
     ]
    }
   ],
   "source": [
    "test_1_data = My_Dataset(folder = 'work_test', fly=False)\n",
    "test_2_data = My_Dataset(folder = 'work_test_hexagon', fly=False)"
   ]
  },
  {
   "cell_type": "code",
   "execution_count": 53,
   "metadata": {},
   "outputs": [],
   "source": [
    "test_1_loader = torch.utils.data.DataLoader(test_1_data, batch_size=batch_size, shuffle=False)\n",
    "test_2_loader = torch.utils.data.DataLoader(test_2_data, batch_size=batch_size, shuffle=False)"
   ]
  },
  {
   "cell_type": "code",
   "execution_count": 54,
   "metadata": {},
   "outputs": [
    {
     "data": {
      "text/plain": [
       "7796"
      ]
     },
     "execution_count": 54,
     "metadata": {},
     "output_type": "execute_result"
    }
   ],
   "source": [
    "torch.cuda.empty_cache()\n",
    "gc.collect()"
   ]
  },
  {
   "cell_type": "code",
   "execution_count": 55,
   "metadata": {},
   "outputs": [
    {
     "name": "stdout",
     "output_type": "stream",
     "text": [
      "Количество файлов : 12000\n",
      "Количество файлов : 12000\n"
     ]
    }
   ],
   "source": [
    "train_data = My_Dataset(fly=False, folder='work')"
   ]
  },
  {
   "cell_type": "code",
   "execution_count": 56,
   "metadata": {},
   "outputs": [
    {
     "name": "stdout",
     "output_type": "stream",
     "text": [
      "Количество файлов : 3000\n",
      "Количество файлов : 3000\n"
     ]
    }
   ],
   "source": [
    "test_1_data = My_Dataset(folder = 'work_test', fly=False)"
   ]
  },
  {
   "cell_type": "code",
   "execution_count": 57,
   "metadata": {},
   "outputs": [
    {
     "name": "stdout",
     "output_type": "stream",
     "text": [
      "Количество файлов : 3000\n",
      "Количество файлов : 3000\n"
     ]
    }
   ],
   "source": [
    "test_2_data = My_Dataset(folder = 'work_test_hexagon', fly=False)"
   ]
  },
  {
   "cell_type": "code",
   "execution_count": 58,
   "metadata": {},
   "outputs": [],
   "source": [
    "batch_size = 32\n",
    "train_loader = torch.utils.data.DataLoader(train_data, batch_size=batch_size, shuffle=True)\n",
    "test_1_loader = torch.utils.data.DataLoader(test_1_data, batch_size=batch_size, shuffle=False)\n",
    "test_2_loader = torch.utils.data.DataLoader(test_2_data, batch_size=batch_size, shuffle=False)"
   ]
  },
  {
   "cell_type": "code",
   "execution_count": 59,
   "metadata": {},
   "outputs": [],
   "source": [
    "# Define the neural network architecture\n",
    "model = ShapeDetector().to(device)\n",
    "# model = My_CNN().to(device)\n",
    "# model = FigureDetector().to(device)\n",
    "# model = UNet().to(device)"
   ]
  },
  {
   "cell_type": "code",
   "execution_count": 60,
   "metadata": {},
   "outputs": [],
   "source": [
    "criterion = nn.MSELoss()\n",
    "optimizer = torch.optim.Adam(model.parameters(), lr=0.001)"
   ]
  },
  {
   "cell_type": "code",
   "execution_count": 61,
   "metadata": {},
   "outputs": [
    {
     "name": "stdout",
     "output_type": "stream",
     "text": [
      "Epoch 20 loss: 58.365\n",
      "Количество triangle в эпохе обучения: 12000\n",
      "Количество circle в эпохе обучения: 12000\n",
      "Количество square в эпохе обучения: 12000\n",
      "Количество rhombus в эпохе обучения: 24000\n",
      "Количество фигур в эпохе обучения: 60000\n"
     ]
    },
    {
     "data": {
      "image/png": "[encoded data removed]",
      "text/plain": [
       "<Figure size 1296x432 with 12 Axes>"
      ]
     },
     "metadata": {
      "needs_background": "light"
     },
     "output_type": "display_data"
    }
   ],
   "source": [
    "history = train_cnn(20, train_loader, batch_size=32)"
   ]
  },
  {
   "cell_type": "code",
   "execution_count": 62,
   "metadata": {},
   "outputs": [],
   "source": [
    "torch.save(model.state_dict(), 'model_simple_start_learning.pth')"
   ]
  },
  {
   "cell_type": "code",
   "execution_count": 63,
   "metadata": {
    "scrolled": true
   },
   "outputs": [
    {
     "name": "stderr",
     "output_type": "stream",
     "text": [
      "No artists with labels found to put in legend.  Note that artists whose label start with an underscore are ignored when legend() is called with no argument.\n"
     ]
    },
    {
     "data": {
      "image/png": "[encoded data removed]",
      "text/plain": [
       "<Figure size 1008x288 with 2 Axes>"
      ]
     },
     "metadata": {
      "needs_background": "light"
     },
     "output_type": "display_data"
    }
   ],
   "source": [
    "# plot(history['epoch'], history['train_loss'], label='train_loss')\n",
    "fig, axes = plt.subplots(1, 2, figsize=(14,4))\n",
    "axes[0].plot(history['epoch'], history['train_loss'], label='train_loss')\n",
    "# axes[0].plot(history['epoch'], history['val_loss'], label='val_loss')\n",
    "# axes[1].plot(history['epoch'], history['val_score'], label='val_score')\n",
    "for i in [0,1]:\n",
    "    axes[i].legend()"
   ]
  },
  {
   "cell_type": "code",
   "execution_count": 64,
   "metadata": {
    "scrolled": false
   },
   "outputs": [
    {
     "name": "stdout",
     "output_type": "stream",
     "text": [
      "Epoch 20 loss: 6.693\n",
      "Количество triangle в эпохе обучения: 20000\n",
      "Количество circle в эпохе обучения: 20000\n",
      "Количество square в эпохе обучения: 20000\n",
      "Количество rhombus в эпохе обучения: 32000\n",
      "Количество hexagon в эпохе обучения: 8000\n",
      "Количество фигур в эпохе обучения: 100000\n"
     ]
    },
    {
     "data": {
      "image/png": "[encoded data removed]",
      "text/plain": [
       "<Figure size 1296x432 with 12 Axes>"
      ]
     },
     "metadata": {
      "needs_background": "light"
     },
     "output_type": "display_data"
    }
   ],
   "source": [
    "for i in range(20):\n",
    "    drawer.generate_images(400, 'work', update = True)\n",
    "    results = transfer_learning(i, 20, status=results)"
   ]
  },
  {
   "cell_type": "code",
   "execution_count": 65,
   "metadata": {},
   "outputs": [
    {
     "data": {
      "text/html": [
       "<div>\n",
       "<style scoped>\n",
       "    .dataframe tbody tr th:only-of-type {\n",
       "        vertical-align: middle;\n",
       "    }\n",
       "\n",
       "    .dataframe tbody tr th {\n",
       "        vertical-align: top;\n",
       "    }\n",
       "\n",
       "    .dataframe thead th {\n",
       "        text-align: right;\n",
       "    }\n",
       "</style>\n",
       "<table border=\"1\" class=\"dataframe\">\n",
       "  <thead>\n",
       "    <tr style=\"text-align: right;\">\n",
       "      <th></th>\n",
       "      <th>test</th>\n",
       "      <th>precision</th>\n",
       "      <th>recall</th>\n",
       "      <th>iou_min</th>\n",
       "      <th>iou_max</th>\n",
       "      <th>iou_mean</th>\n",
       "      <th>triangle</th>\n",
       "      <th>square</th>\n",
       "      <th>rhombus</th>\n",
       "      <th>hexagon</th>\n",
       "      <th>circle</th>\n",
       "      <th>total figures</th>\n",
       "    </tr>\n",
       "  </thead>\n",
       "  <tbody>\n",
       "    <tr>\n",
       "      <th>0</th>\n",
       "      <td>test_1</td>\n",
       "      <td>0.024845</td>\n",
       "      <td>0.004167</td>\n",
       "      <td>0.0</td>\n",
       "      <td>0.603122</td>\n",
       "      <td>0.580098</td>\n",
       "      <td>1003</td>\n",
       "      <td>988</td>\n",
       "      <td>996</td>\n",
       "      <td>1023</td>\n",
       "      <td>990</td>\n",
       "      <td>5000</td>\n",
       "    </tr>\n",
       "    <tr>\n",
       "      <th>1</th>\n",
       "      <td>test_2</td>\n",
       "      <td>0.017341</td>\n",
       "      <td>0.003125</td>\n",
       "      <td>0.0</td>\n",
       "      <td>0.529366</td>\n",
       "      <td>0.519541</td>\n",
       "      <td>5004</td>\n",
       "      <td>5075</td>\n",
       "      <td>5022</td>\n",
       "      <td>4955</td>\n",
       "      <td>4944</td>\n",
       "      <td>25000</td>\n",
       "    </tr>\n",
       "    <tr>\n",
       "      <th>2</th>\n",
       "      <td>0_test</td>\n",
       "      <td>0.132588</td>\n",
       "      <td>0.029433</td>\n",
       "      <td>0.0</td>\n",
       "      <td>0.877790</td>\n",
       "      <td>0.614414</td>\n",
       "      <td>3000</td>\n",
       "      <td>3000</td>\n",
       "      <td>6000</td>\n",
       "      <td>0</td>\n",
       "      <td>3000</td>\n",
       "      <td>15000</td>\n",
       "    </tr>\n",
       "    <tr>\n",
       "      <th>3</th>\n",
       "      <td>0_test_hexagon</td>\n",
       "      <td>0.153578</td>\n",
       "      <td>0.031206</td>\n",
       "      <td>0.0</td>\n",
       "      <td>0.888092</td>\n",
       "      <td>0.618081</td>\n",
       "      <td>3000</td>\n",
       "      <td>3000</td>\n",
       "      <td>3000</td>\n",
       "      <td>3000</td>\n",
       "      <td>3000</td>\n",
       "      <td>15000</td>\n",
       "    </tr>\n",
       "    <tr>\n",
       "      <th>4</th>\n",
       "      <td>1_test</td>\n",
       "      <td>0.111908</td>\n",
       "      <td>0.027660</td>\n",
       "      <td>0.0</td>\n",
       "      <td>0.853802</td>\n",
       "      <td>0.613129</td>\n",
       "      <td>3000</td>\n",
       "      <td>3000</td>\n",
       "      <td>6000</td>\n",
       "      <td>0</td>\n",
       "      <td>3000</td>\n",
       "      <td>15000</td>\n",
       "    </tr>\n",
       "    <tr>\n",
       "      <th>5</th>\n",
       "      <td>1_test_hexagon</td>\n",
       "      <td>0.144201</td>\n",
       "      <td>0.032624</td>\n",
       "      <td>0.0</td>\n",
       "      <td>0.866891</td>\n",
       "      <td>0.613922</td>\n",
       "      <td>3000</td>\n",
       "      <td>3000</td>\n",
       "      <td>3000</td>\n",
       "      <td>3000</td>\n",
       "      <td>3000</td>\n",
       "      <td>15000</td>\n",
       "    </tr>\n",
       "    <tr>\n",
       "      <th>6</th>\n",
       "      <td>2_test</td>\n",
       "      <td>0.139860</td>\n",
       "      <td>0.035461</td>\n",
       "      <td>0.0</td>\n",
       "      <td>0.834772</td>\n",
       "      <td>0.606267</td>\n",
       "      <td>3000</td>\n",
       "      <td>3000</td>\n",
       "      <td>6000</td>\n",
       "      <td>0</td>\n",
       "      <td>3000</td>\n",
       "      <td>15000</td>\n",
       "    </tr>\n",
       "    <tr>\n",
       "      <th>7</th>\n",
       "      <td>2_test_hexagon</td>\n",
       "      <td>0.151786</td>\n",
       "      <td>0.036170</td>\n",
       "      <td>0.0</td>\n",
       "      <td>0.836780</td>\n",
       "      <td>0.617295</td>\n",
       "      <td>3000</td>\n",
       "      <td>3000</td>\n",
       "      <td>3000</td>\n",
       "      <td>3000</td>\n",
       "      <td>3000</td>\n",
       "      <td>15000</td>\n",
       "    </tr>\n",
       "    <tr>\n",
       "      <th>8</th>\n",
       "      <td>3_test</td>\n",
       "      <td>0.141892</td>\n",
       "      <td>0.037234</td>\n",
       "      <td>0.0</td>\n",
       "      <td>0.855254</td>\n",
       "      <td>0.598709</td>\n",
       "      <td>3000</td>\n",
       "      <td>3000</td>\n",
       "      <td>6000</td>\n",
       "      <td>0</td>\n",
       "      <td>3000</td>\n",
       "      <td>15000</td>\n",
       "    </tr>\n",
       "    <tr>\n",
       "      <th>9</th>\n",
       "      <td>3_test_hexagon</td>\n",
       "      <td>0.137931</td>\n",
       "      <td>0.036879</td>\n",
       "      <td>0.0</td>\n",
       "      <td>0.911874</td>\n",
       "      <td>0.616230</td>\n",
       "      <td>3000</td>\n",
       "      <td>3000</td>\n",
       "      <td>3000</td>\n",
       "      <td>3000</td>\n",
       "      <td>3000</td>\n",
       "      <td>15000</td>\n",
       "    </tr>\n",
       "    <tr>\n",
       "      <th>10</th>\n",
       "      <td>4_test</td>\n",
       "      <td>0.134715</td>\n",
       "      <td>0.036879</td>\n",
       "      <td>0.0</td>\n",
       "      <td>0.850544</td>\n",
       "      <td>0.606172</td>\n",
       "      <td>3000</td>\n",
       "      <td>3000</td>\n",
       "      <td>6000</td>\n",
       "      <td>0</td>\n",
       "      <td>3000</td>\n",
       "      <td>15000</td>\n",
       "    </tr>\n",
       "    <tr>\n",
       "      <th>11</th>\n",
       "      <td>4_test_hexagon</td>\n",
       "      <td>0.156047</td>\n",
       "      <td>0.042553</td>\n",
       "      <td>0.0</td>\n",
       "      <td>0.882848</td>\n",
       "      <td>0.621525</td>\n",
       "      <td>3000</td>\n",
       "      <td>3000</td>\n",
       "      <td>3000</td>\n",
       "      <td>3000</td>\n",
       "      <td>3000</td>\n",
       "      <td>15000</td>\n",
       "    </tr>\n",
       "    <tr>\n",
       "      <th>12</th>\n",
       "      <td>5_test</td>\n",
       "      <td>0.139679</td>\n",
       "      <td>0.040071</td>\n",
       "      <td>0.0</td>\n",
       "      <td>0.861485</td>\n",
       "      <td>0.607974</td>\n",
       "      <td>3000</td>\n",
       "      <td>3000</td>\n",
       "      <td>6000</td>\n",
       "      <td>0</td>\n",
       "      <td>3000</td>\n",
       "      <td>15000</td>\n",
       "    </tr>\n",
       "    <tr>\n",
       "      <th>13</th>\n",
       "      <td>5_test_hexagon</td>\n",
       "      <td>0.157035</td>\n",
       "      <td>0.044326</td>\n",
       "      <td>0.0</td>\n",
       "      <td>0.925953</td>\n",
       "      <td>0.625002</td>\n",
       "      <td>3000</td>\n",
       "      <td>3000</td>\n",
       "      <td>3000</td>\n",
       "      <td>3000</td>\n",
       "      <td>3000</td>\n",
       "      <td>15000</td>\n",
       "    </tr>\n",
       "    <tr>\n",
       "      <th>14</th>\n",
       "      <td>6_test</td>\n",
       "      <td>0.134454</td>\n",
       "      <td>0.039716</td>\n",
       "      <td>0.0</td>\n",
       "      <td>0.847549</td>\n",
       "      <td>0.605287</td>\n",
       "      <td>3000</td>\n",
       "      <td>3000</td>\n",
       "      <td>6000</td>\n",
       "      <td>0</td>\n",
       "      <td>3000</td>\n",
       "      <td>15000</td>\n",
       "    </tr>\n",
       "    <tr>\n",
       "      <th>15</th>\n",
       "      <td>6_test_hexagon</td>\n",
       "      <td>0.175904</td>\n",
       "      <td>0.051773</td>\n",
       "      <td>0.0</td>\n",
       "      <td>0.926027</td>\n",
       "      <td>0.617956</td>\n",
       "      <td>3000</td>\n",
       "      <td>3000</td>\n",
       "      <td>3000</td>\n",
       "      <td>3000</td>\n",
       "      <td>3000</td>\n",
       "      <td>15000</td>\n",
       "    </tr>\n",
       "    <tr>\n",
       "      <th>16</th>\n",
       "      <td>7_test</td>\n",
       "      <td>0.146845</td>\n",
       "      <td>0.042908</td>\n",
       "      <td>0.0</td>\n",
       "      <td>0.868630</td>\n",
       "      <td>0.593208</td>\n",
       "      <td>3000</td>\n",
       "      <td>3000</td>\n",
       "      <td>6000</td>\n",
       "      <td>0</td>\n",
       "      <td>3000</td>\n",
       "      <td>15000</td>\n",
       "    </tr>\n",
       "    <tr>\n",
       "      <th>17</th>\n",
       "      <td>7_test_hexagon</td>\n",
       "      <td>0.179070</td>\n",
       "      <td>0.054610</td>\n",
       "      <td>0.0</td>\n",
       "      <td>0.937558</td>\n",
       "      <td>0.615646</td>\n",
       "      <td>3000</td>\n",
       "      <td>3000</td>\n",
       "      <td>3000</td>\n",
       "      <td>3000</td>\n",
       "      <td>3000</td>\n",
       "      <td>15000</td>\n",
       "    </tr>\n",
       "    <tr>\n",
       "      <th>18</th>\n",
       "      <td>8_test</td>\n",
       "      <td>0.149112</td>\n",
       "      <td>0.044681</td>\n",
       "      <td>0.0</td>\n",
       "      <td>0.855246</td>\n",
       "      <td>0.605358</td>\n",
       "      <td>3000</td>\n",
       "      <td>3000</td>\n",
       "      <td>6000</td>\n",
       "      <td>0</td>\n",
       "      <td>3000</td>\n",
       "      <td>15000</td>\n",
       "    </tr>\n",
       "    <tr>\n",
       "      <th>19</th>\n",
       "      <td>8_test_hexagon</td>\n",
       "      <td>0.190311</td>\n",
       "      <td>0.058511</td>\n",
       "      <td>0.0</td>\n",
       "      <td>0.917257</td>\n",
       "      <td>0.612220</td>\n",
       "      <td>3000</td>\n",
       "      <td>3000</td>\n",
       "      <td>3000</td>\n",
       "      <td>3000</td>\n",
       "      <td>3000</td>\n",
       "      <td>15000</td>\n",
       "    </tr>\n",
       "    <tr>\n",
       "      <th>20</th>\n",
       "      <td>9_test</td>\n",
       "      <td>0.152761</td>\n",
       "      <td>0.046099</td>\n",
       "      <td>0.0</td>\n",
       "      <td>0.910605</td>\n",
       "      <td>0.626248</td>\n",
       "      <td>3000</td>\n",
       "      <td>3000</td>\n",
       "      <td>6000</td>\n",
       "      <td>0</td>\n",
       "      <td>3000</td>\n",
       "      <td>15000</td>\n",
       "    </tr>\n",
       "    <tr>\n",
       "      <th>21</th>\n",
       "      <td>9_test_hexagon</td>\n",
       "      <td>0.176149</td>\n",
       "      <td>0.057092</td>\n",
       "      <td>0.0</td>\n",
       "      <td>0.940855</td>\n",
       "      <td>0.615862</td>\n",
       "      <td>3000</td>\n",
       "      <td>3000</td>\n",
       "      <td>3000</td>\n",
       "      <td>3000</td>\n",
       "      <td>3000</td>\n",
       "      <td>15000</td>\n",
       "    </tr>\n",
       "    <tr>\n",
       "      <th>22</th>\n",
       "      <td>10_test</td>\n",
       "      <td>0.142857</td>\n",
       "      <td>0.044326</td>\n",
       "      <td>0.0</td>\n",
       "      <td>0.936099</td>\n",
       "      <td>0.618312</td>\n",
       "      <td>3000</td>\n",
       "      <td>3000</td>\n",
       "      <td>6000</td>\n",
       "      <td>0</td>\n",
       "      <td>3000</td>\n",
       "      <td>15000</td>\n",
       "    </tr>\n",
       "    <tr>\n",
       "      <th>23</th>\n",
       "      <td>10_test_hexagon</td>\n",
       "      <td>0.177350</td>\n",
       "      <td>0.058865</td>\n",
       "      <td>0.0</td>\n",
       "      <td>0.938509</td>\n",
       "      <td>0.620321</td>\n",
       "      <td>3000</td>\n",
       "      <td>3000</td>\n",
       "      <td>3000</td>\n",
       "      <td>3000</td>\n",
       "      <td>3000</td>\n",
       "      <td>15000</td>\n",
       "    </tr>\n",
       "    <tr>\n",
       "      <th>24</th>\n",
       "      <td>11_test</td>\n",
       "      <td>0.145598</td>\n",
       "      <td>0.045745</td>\n",
       "      <td>0.0</td>\n",
       "      <td>0.916894</td>\n",
       "      <td>0.617157</td>\n",
       "      <td>3000</td>\n",
       "      <td>3000</td>\n",
       "      <td>6000</td>\n",
       "      <td>0</td>\n",
       "      <td>3000</td>\n",
       "      <td>15000</td>\n",
       "    </tr>\n",
       "    <tr>\n",
       "      <th>25</th>\n",
       "      <td>11_test_hexagon</td>\n",
       "      <td>0.190426</td>\n",
       "      <td>0.063475</td>\n",
       "      <td>0.0</td>\n",
       "      <td>0.931465</td>\n",
       "      <td>0.613619</td>\n",
       "      <td>3000</td>\n",
       "      <td>3000</td>\n",
       "      <td>3000</td>\n",
       "      <td>3000</td>\n",
       "      <td>3000</td>\n",
       "      <td>15000</td>\n",
       "    </tr>\n",
       "    <tr>\n",
       "      <th>26</th>\n",
       "      <td>12_test</td>\n",
       "      <td>0.175660</td>\n",
       "      <td>0.054255</td>\n",
       "      <td>0.0</td>\n",
       "      <td>0.912544</td>\n",
       "      <td>0.615353</td>\n",
       "      <td>3000</td>\n",
       "      <td>3000</td>\n",
       "      <td>6000</td>\n",
       "      <td>0</td>\n",
       "      <td>3000</td>\n",
       "      <td>15000</td>\n",
       "    </tr>\n",
       "    <tr>\n",
       "      <th>27</th>\n",
       "      <td>12_test_hexagon</td>\n",
       "      <td>0.181263</td>\n",
       "      <td>0.063121</td>\n",
       "      <td>0.0</td>\n",
       "      <td>0.902953</td>\n",
       "      <td>0.611864</td>\n",
       "      <td>3000</td>\n",
       "      <td>3000</td>\n",
       "      <td>3000</td>\n",
       "      <td>3000</td>\n",
       "      <td>3000</td>\n",
       "      <td>15000</td>\n",
       "    </tr>\n",
       "    <tr>\n",
       "      <th>28</th>\n",
       "      <td>13_test</td>\n",
       "      <td>0.177879</td>\n",
       "      <td>0.055319</td>\n",
       "      <td>0.0</td>\n",
       "      <td>0.875687</td>\n",
       "      <td>0.610082</td>\n",
       "      <td>3000</td>\n",
       "      <td>3000</td>\n",
       "      <td>6000</td>\n",
       "      <td>0</td>\n",
       "      <td>3000</td>\n",
       "      <td>15000</td>\n",
       "    </tr>\n",
       "    <tr>\n",
       "      <th>29</th>\n",
       "      <td>13_test_hexagon</td>\n",
       "      <td>0.183613</td>\n",
       "      <td>0.065957</td>\n",
       "      <td>0.0</td>\n",
       "      <td>0.955639</td>\n",
       "      <td>0.616619</td>\n",
       "      <td>3000</td>\n",
       "      <td>3000</td>\n",
       "      <td>3000</td>\n",
       "      <td>3000</td>\n",
       "      <td>3000</td>\n",
       "      <td>15000</td>\n",
       "    </tr>\n",
       "    <tr>\n",
       "      <th>30</th>\n",
       "      <td>14_test</td>\n",
       "      <td>0.177549</td>\n",
       "      <td>0.054965</td>\n",
       "      <td>0.0</td>\n",
       "      <td>0.883058</td>\n",
       "      <td>0.608761</td>\n",
       "      <td>3000</td>\n",
       "      <td>3000</td>\n",
       "      <td>6000</td>\n",
       "      <td>0</td>\n",
       "      <td>3000</td>\n",
       "      <td>15000</td>\n",
       "    </tr>\n",
       "    <tr>\n",
       "      <th>31</th>\n",
       "      <td>14_test_hexagon</td>\n",
       "      <td>0.170923</td>\n",
       "      <td>0.061702</td>\n",
       "      <td>0.0</td>\n",
       "      <td>0.864194</td>\n",
       "      <td>0.616860</td>\n",
       "      <td>3000</td>\n",
       "      <td>3000</td>\n",
       "      <td>3000</td>\n",
       "      <td>3000</td>\n",
       "      <td>3000</td>\n",
       "      <td>15000</td>\n",
       "    </tr>\n",
       "    <tr>\n",
       "      <th>32</th>\n",
       "      <td>15_test</td>\n",
       "      <td>0.200238</td>\n",
       "      <td>0.059574</td>\n",
       "      <td>0.0</td>\n",
       "      <td>0.897963</td>\n",
       "      <td>0.610766</td>\n",
       "      <td>3000</td>\n",
       "      <td>3000</td>\n",
       "      <td>6000</td>\n",
       "      <td>0</td>\n",
       "      <td>3000</td>\n",
       "      <td>15000</td>\n",
       "    </tr>\n",
       "    <tr>\n",
       "      <th>33</th>\n",
       "      <td>15_test_hexagon</td>\n",
       "      <td>0.178399</td>\n",
       "      <td>0.065603</td>\n",
       "      <td>0.0</td>\n",
       "      <td>0.886715</td>\n",
       "      <td>0.619425</td>\n",
       "      <td>3000</td>\n",
       "      <td>3000</td>\n",
       "      <td>3000</td>\n",
       "      <td>3000</td>\n",
       "      <td>3000</td>\n",
       "      <td>15000</td>\n",
       "    </tr>\n",
       "    <tr>\n",
       "      <th>34</th>\n",
       "      <td>16_test</td>\n",
       "      <td>0.175737</td>\n",
       "      <td>0.054965</td>\n",
       "      <td>0.0</td>\n",
       "      <td>0.904044</td>\n",
       "      <td>0.616814</td>\n",
       "      <td>3000</td>\n",
       "      <td>3000</td>\n",
       "      <td>6000</td>\n",
       "      <td>0</td>\n",
       "      <td>3000</td>\n",
       "      <td>15000</td>\n",
       "    </tr>\n",
       "    <tr>\n",
       "      <th>35</th>\n",
       "      <td>16_test_hexagon</td>\n",
       "      <td>0.183301</td>\n",
       "      <td>0.067730</td>\n",
       "      <td>0.0</td>\n",
       "      <td>0.937974</td>\n",
       "      <td>0.611243</td>\n",
       "      <td>3000</td>\n",
       "      <td>3000</td>\n",
       "      <td>3000</td>\n",
       "      <td>3000</td>\n",
       "      <td>3000</td>\n",
       "      <td>15000</td>\n",
       "    </tr>\n",
       "    <tr>\n",
       "      <th>36</th>\n",
       "      <td>17_test</td>\n",
       "      <td>0.181818</td>\n",
       "      <td>0.056738</td>\n",
       "      <td>0.0</td>\n",
       "      <td>0.923396</td>\n",
       "      <td>0.616749</td>\n",
       "      <td>3000</td>\n",
       "      <td>3000</td>\n",
       "      <td>6000</td>\n",
       "      <td>0</td>\n",
       "      <td>3000</td>\n",
       "      <td>15000</td>\n",
       "    </tr>\n",
       "    <tr>\n",
       "      <th>37</th>\n",
       "      <td>17_test_hexagon</td>\n",
       "      <td>0.195424</td>\n",
       "      <td>0.072695</td>\n",
       "      <td>0.0</td>\n",
       "      <td>0.921298</td>\n",
       "      <td>0.616831</td>\n",
       "      <td>3000</td>\n",
       "      <td>3000</td>\n",
       "      <td>3000</td>\n",
       "      <td>3000</td>\n",
       "      <td>3000</td>\n",
       "      <td>15000</td>\n",
       "    </tr>\n",
       "    <tr>\n",
       "      <th>38</th>\n",
       "      <td>18_test</td>\n",
       "      <td>0.193843</td>\n",
       "      <td>0.060284</td>\n",
       "      <td>0.0</td>\n",
       "      <td>0.861194</td>\n",
       "      <td>0.615406</td>\n",
       "      <td>3000</td>\n",
       "      <td>3000</td>\n",
       "      <td>6000</td>\n",
       "      <td>0</td>\n",
       "      <td>3000</td>\n",
       "      <td>15000</td>\n",
       "    </tr>\n",
       "    <tr>\n",
       "      <th>39</th>\n",
       "      <td>18_test_hexagon</td>\n",
       "      <td>0.207977</td>\n",
       "      <td>0.077660</td>\n",
       "      <td>0.0</td>\n",
       "      <td>0.905749</td>\n",
       "      <td>0.613879</td>\n",
       "      <td>3000</td>\n",
       "      <td>3000</td>\n",
       "      <td>3000</td>\n",
       "      <td>3000</td>\n",
       "      <td>3000</td>\n",
       "      <td>15000</td>\n",
       "    </tr>\n",
       "    <tr>\n",
       "      <th>40</th>\n",
       "      <td>19_test</td>\n",
       "      <td>0.188914</td>\n",
       "      <td>0.059220</td>\n",
       "      <td>0.0</td>\n",
       "      <td>0.912690</td>\n",
       "      <td>0.629228</td>\n",
       "      <td>3000</td>\n",
       "      <td>3000</td>\n",
       "      <td>6000</td>\n",
       "      <td>0</td>\n",
       "      <td>3000</td>\n",
       "      <td>15000</td>\n",
       "    </tr>\n",
       "    <tr>\n",
       "      <th>41</th>\n",
       "      <td>19_test_hexagon</td>\n",
       "      <td>0.201852</td>\n",
       "      <td>0.077305</td>\n",
       "      <td>0.0</td>\n",
       "      <td>0.904141</td>\n",
       "      <td>0.614610</td>\n",
       "      <td>3000</td>\n",
       "      <td>3000</td>\n",
       "      <td>3000</td>\n",
       "      <td>3000</td>\n",
       "      <td>3000</td>\n",
       "      <td>15000</td>\n",
       "    </tr>\n",
       "  </tbody>\n",
       "</table>\n",
       "</div>"
      ],
      "text/plain": [
       "               test  precision    recall  iou_min   iou_max  iou_mean  \\\n",
       "0            test_1   0.024845  0.004167      0.0  0.603122  0.580098   \n",
       "1            test_2   0.017341  0.003125      0.0  0.529366  0.519541   \n",
       "2            0_test   0.132588  0.029433      0.0  0.877790  0.614414   \n",
       "3    0_test_hexagon   0.153578  0.031206      0.0  0.888092  0.618081   \n",
       "4            1_test   0.111908  0.027660      0.0  0.853802  0.613129   \n",
       "5    1_test_hexagon   0.144201  0.032624      0.0  0.866891  0.613922   \n",
       "6            2_test   0.139860  0.035461      0.0  0.834772  0.606267   \n",
       "7    2_test_hexagon   0.151786  0.036170      0.0  0.836780  0.617295   \n",
       "8            3_test   0.141892  0.037234      0.0  0.855254  0.598709   \n",
       "9    3_test_hexagon   0.137931  0.036879      0.0  0.911874  0.616230   \n",
       "10           4_test   0.134715  0.036879      0.0  0.850544  0.606172   \n",
       "11   4_test_hexagon   0.156047  0.042553      0.0  0.882848  0.621525   \n",
       "12           5_test   0.139679  0.040071      0.0  0.861485  0.607974   \n",
       "13   5_test_hexagon   0.157035  0.044326      0.0  0.925953  0.625002   \n",
       "14           6_test   0.134454  0.039716      0.0  0.847549  0.605287   \n",
       "15   6_test_hexagon   0.175904  0.051773      0.0  0.926027  0.617956   \n",
       "16           7_test   0.146845  0.042908      0.0  0.868630  0.593208   \n",
       "17   7_test_hexagon   0.179070  0.054610      0.0  0.937558  0.615646   \n",
       "18           8_test   0.149112  0.044681      0.0  0.855246  0.605358   \n",
       "19   8_test_hexagon   0.190311  0.058511      0.0  0.917257  0.612220   \n",
       "20           9_test   0.152761  0.046099      0.0  0.910605  0.626248   \n",
       "21   9_test_hexagon   0.176149  0.057092      0.0  0.940855  0.615862   \n",
       "22          10_test   0.142857  0.044326      0.0  0.936099  0.618312   \n",
       "23  10_test_hexagon   0.177350  0.058865      0.0  0.938509  0.620321   \n",
       "24          11_test   0.145598  0.045745      0.0  0.916894  0.617157   \n",
       "25  11_test_hexagon   0.190426  0.063475      0.0  0.931465  0.613619   \n",
       "26          12_test   0.175660  0.054255      0.0  0.912544  0.615353   \n",
       "27  12_test_hexagon   0.181263  0.063121      0.0  0.902953  0.611864   \n",
       "28          13_test   0.177879  0.055319      0.0  0.875687  0.610082   \n",
       "29  13_test_hexagon   0.183613  0.065957      0.0  0.955639  0.616619   \n",
       "30          14_test   0.177549  0.054965      0.0  0.883058  0.608761   \n",
       "31  14_test_hexagon   0.170923  0.061702      0.0  0.864194  0.616860   \n",
       "32          15_test   0.200238  0.059574      0.0  0.897963  0.610766   \n",
       "33  15_test_hexagon   0.178399  0.065603      0.0  0.886715  0.619425   \n",
       "34          16_test   0.175737  0.054965      0.0  0.904044  0.616814   \n",
       "35  16_test_hexagon   0.183301  0.067730      0.0  0.937974  0.611243   \n",
       "36          17_test   0.181818  0.056738      0.0  0.923396  0.616749   \n",
       "37  17_test_hexagon   0.195424  0.072695      0.0  0.921298  0.616831   \n",
       "38          18_test   0.193843  0.060284      0.0  0.861194  0.615406   \n",
       "39  18_test_hexagon   0.207977  0.077660      0.0  0.905749  0.613879   \n",
       "40          19_test   0.188914  0.059220      0.0  0.912690  0.629228   \n",
       "41  19_test_hexagon   0.201852  0.077305      0.0  0.904141  0.614610   \n",
       "\n",
       "   triangle square rhombus hexagon circle total figures  \n",
       "0      1003    988     996    1023    990          5000  \n",
       "1      5004   5075    5022    4955   4944         25000  \n",
       "2      3000   3000    6000       0   3000         15000  \n",
       "3      3000   3000    3000    3000   3000         15000  \n",
       "4      3000   3000    6000       0   3000         15000  \n",
       "5      3000   3000    3000    3000   3000         15000  \n",
       "6      3000   3000    6000       0   3000         15000  \n",
       "7      3000   3000    3000    3000   3000         15000  \n",
       "8      3000   3000    6000       0   3000         15000  \n",
       "9      3000   3000    3000    3000   3000         15000  \n",
       "10     3000   3000    6000       0   3000         15000  \n",
       "11     3000   3000    3000    3000   3000         15000  \n",
       "12     3000   3000    6000       0   3000         15000  \n",
       "13     3000   3000    3000    3000   3000         15000  \n",
       "14     3000   3000    6000       0   3000         15000  \n",
       "15     3000   3000    3000    3000   3000         15000  \n",
       "16     3000   3000    6000       0   3000         15000  \n",
       "17     3000   3000    3000    3000   3000         15000  \n",
       "18     3000   3000    6000       0   3000         15000  \n",
       "19     3000   3000    3000    3000   3000         15000  \n",
       "20     3000   3000    6000       0   3000         15000  \n",
       "21     3000   3000    3000    3000   3000         15000  \n",
       "22     3000   3000    6000       0   3000         15000  \n",
       "23     3000   3000    3000    3000   3000         15000  \n",
       "24     3000   3000    6000       0   3000         15000  \n",
       "25     3000   3000    3000    3000   3000         15000  \n",
       "26     3000   3000    6000       0   3000         15000  \n",
       "27     3000   3000    3000    3000   3000         15000  \n",
       "28     3000   3000    6000       0   3000         15000  \n",
       "29     3000   3000    3000    3000   3000         15000  \n",
       "30     3000   3000    6000       0   3000         15000  \n",
       "31     3000   3000    3000    3000   3000         15000  \n",
       "32     3000   3000    6000       0   3000         15000  \n",
       "33     3000   3000    3000    3000   3000         15000  \n",
       "34     3000   3000    6000       0   3000         15000  \n",
       "35     3000   3000    3000    3000   3000         15000  \n",
       "36     3000   3000    6000       0   3000         15000  \n",
       "37     3000   3000    3000    3000   3000         15000  \n",
       "38     3000   3000    6000       0   3000         15000  \n",
       "39     3000   3000    3000    3000   3000         15000  \n",
       "40     3000   3000    6000       0   3000         15000  \n",
       "41     3000   3000    3000    3000   3000         15000  "
      ]
     },
     "execution_count": 65,
     "metadata": {},
     "output_type": "execute_result"
    }
   ],
   "source": [
    "results"
   ]
  },
  {
   "cell_type": "code",
   "execution_count": 67,
   "metadata": {},
   "outputs": [],
   "source": [
    "results.to_csv('results.csv')"
   ]
  },
  {
   "cell_type": "code",
   "execution_count": null,
   "metadata": {},
   "outputs": [],
   "source": []
  }
 ],
 "metadata": {
  "colab": {
   "provenance": []
  },
  "kernelspec": {
   "display_name": "Python 3 (ipykernel)",
   "language": "python",
   "name": "python3"
  },
  "language_info": {
   "codemirror_mode": {
    "name": "ipython",
    "version": 3
   },
   "file_extension": ".py",
   "mimetype": "text/x-python",
   "name": "python",
   "nbconvert_exporter": "python",
   "pygments_lexer": "ipython3",
   "version": "3.10.12"
  }
 },
 "nbformat": 4,
 "nbformat_minor": 1
}
